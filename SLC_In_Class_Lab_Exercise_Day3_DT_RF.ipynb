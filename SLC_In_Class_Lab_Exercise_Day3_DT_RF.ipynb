{
 "cells": [
  {
   "cell_type": "markdown",
   "metadata": {
    "id": "YH9TuHW8DWHB"
   },
   "source": [
    "<table align=\"center\" width=100%>\n",
    "    <tr>\n",
    "        <td width=\"15%\">\n",
    "            <img src=\"in_class.png\">\n",
    "        </td>\n",
    "        <td>\n",
    "            <div align=\"center\">\n",
    "                <font color=\"#21618C\" size=8px>\n",
    "                    <b> Inclass - Lab <br>(Day 3)\n",
    "                    </b>\n",
    "                </font>\n",
    "            </div>\n",
    "        </td>\n",
    "    </tr>\n",
    "</table>"
   ]
  },
  {
   "cell_type": "markdown",
   "metadata": {
    "id": "uouclbIkDWHH"
   },
   "source": [
    "### About the data set (Employee data)\n",
    "\n",
    "The dataset contains information about employees. The aim is to find which employees might undergo attrition.<br> Attribute information: \n",
    "\n",
    "**Age:** Age of the employee \n",
    "\n",
    "**BusinessTravel:** How much travel is involved in the job for the employee:No Travel, Travel Frequently, Tavel Rarely\n",
    "\n",
    "**Department:** Department of the employee: Human Resources, Reserach & Development, Sales\n",
    "\n",
    "**Commute:** Number of miles of daily commute for the employee\n",
    "\n",
    "**Education:** Employee education field: Human Resources, Life Sciences, Marketing, Medical Sciences, Technical, Others\n",
    "\n",
    "**EnvironmentSatisfaction:** Satisfaction of employee with office environment\n",
    "\n",
    "**Gender:** Employee gender\n",
    "\n",
    "**JobInvolvement:** Job involvement rating\n",
    "\n",
    "**JobLevel:**  Job level for employee designation\n",
    "\n",
    "**JobSatisfaction:** Employee job satisfaction rating\n",
    "\n",
    "**MonthlyIncome:** Employee monthly salary\n",
    "\n",
    "**OverTime:** Has the employee been open to working overtime: Yes or No\n",
    "\n",
    "**PercentSalaryHike:** Percent increase in salary\n",
    "\n",
    "**PerformanceRating:** Overall employee performance rating\n",
    "\n",
    "**YearsAtCompany:** Number of years the employee has worked with the company\n",
    "\n",
    "**Attrition:** Employee leaving the company: Yes or No"
   ]
  },
  {
   "cell_type": "code",
   "execution_count": null,
   "metadata": {
    "colab": {
     "base_uri": "https://localhost:8080/"
    },
    "id": "8WEXx6eRhE-a",
    "outputId": "2215c315-b647-44f5-cb11-aaf859d2381d"
   },
   "outputs": [
    {
     "data": {
      "text/plain": [
       "1.0"
      ]
     },
     "execution_count": 2,
     "metadata": {},
     "output_type": "execute_result"
    }
   ],
   "source": [
    "import numpy as np\n",
    "-(.5*np.log2(.5)+.5*np.log2(.5))"
   ]
  },
  {
   "cell_type": "code",
   "execution_count": null,
   "metadata": {
    "colab": {
     "base_uri": "https://localhost:8080/"
    },
    "id": "NBiSqngpkLsz",
    "outputId": "b8c4c6aa-082d-4fdf-9b3a-635b10d43d6f"
   },
   "outputs": [
    {
     "data": {
      "text/plain": [
       "0.8112781244591328"
      ]
     },
     "execution_count": 4,
     "metadata": {},
     "output_type": "execute_result"
    }
   ],
   "source": [
    "-(.25*np.log2(.25)+.75*np.log2(.75))"
   ]
  },
  {
   "cell_type": "code",
   "execution_count": null,
   "metadata": {
    "colab": {
     "base_uri": "https://localhost:8080/"
    },
    "id": "WIi8MjU9kPwL",
    "outputId": "f93d0f54-5bf6-4e3a-a10c-7965737caab1"
   },
   "outputs": [
    {
     "data": {
      "text/plain": [
       "0.46358749969093305"
      ]
     },
     "execution_count": 5,
     "metadata": {},
     "output_type": "execute_result"
    }
   ],
   "source": [
    "0.8112781244591328*(4/7)"
   ]
  },
  {
   "cell_type": "code",
   "execution_count": null,
   "metadata": {
    "colab": {
     "base_uri": "https://localhost:8080/"
    },
    "id": "-xEy1B4xhUwv",
    "outputId": "9ffa652c-2c19-47f3-9c02-24191e763cab"
   },
   "outputs": [
    {
     "data": {
      "text/plain": [
       "0.9182958340544896"
      ]
     },
     "execution_count": 3,
     "metadata": {},
     "output_type": "execute_result"
    }
   ],
   "source": [
    "-((1/3)*np.log2(1/3)+(2/3)*np.log2(2/3))"
   ]
  },
  {
   "cell_type": "code",
   "execution_count": null,
   "metadata": {
    "colab": {
     "base_uri": "https://localhost:8080/"
    },
    "id": "8jeSfQMrhLlH",
    "outputId": "50f5a2b6-d041-45a2-921c-86a850e5a4d1"
   },
   "outputs": [
    {
     "data": {
      "text/plain": [
       "0.39355535745192405"
      ]
     },
     "execution_count": 6,
     "metadata": {},
     "output_type": "execute_result"
    }
   ],
   "source": [
    "0.9182958340544896*(3/7)"
   ]
  },
  {
   "cell_type": "code",
   "execution_count": null,
   "metadata": {
    "colab": {
     "base_uri": "https://localhost:8080/"
    },
    "id": "D529XV9UkdAq",
    "outputId": "17ce708f-2911-476e-e80d-e7627fe488a5"
   },
   "outputs": [
    {
     "data": {
      "text/plain": [
       "0.8571428571428571"
      ]
     },
     "execution_count": 7,
     "metadata": {},
     "output_type": "execute_result"
    }
   ],
   "source": [
    "0.39355535745192405+0.46358749969093305"
   ]
  },
  {
   "cell_type": "code",
   "execution_count": null,
   "metadata": {
    "id": "O0_KsgTm965k"
   },
   "outputs": [],
   "source": [
    "import numpy as np"
   ]
  },
  {
   "cell_type": "code",
   "execution_count": null,
   "metadata": {
    "colab": {
     "base_uri": "https://localhost:8080/"
    },
    "id": "HyN3t3ZB9vPU",
    "outputId": "d669664c-ab55-4f1f-d5c5-0e96a8876003"
   },
   "outputs": [
    {
     "data": {
      "text/plain": [
       "1.0"
      ]
     },
     "execution_count": 3,
     "metadata": {},
     "output_type": "execute_result"
    }
   ],
   "source": [
    "#entropy at root\n",
    "-(.5*np.log2(.5)+.5*np.log2(.5))"
   ]
  },
  {
   "cell_type": "code",
   "execution_count": null,
   "metadata": {
    "colab": {
     "base_uri": "https://localhost:8080/"
    },
    "id": "LWjWCuyw_rkH",
    "outputId": "eaf4f648-0120-4872-b8d2-e3ad13cf22d0"
   },
   "outputs": [
    {
     "data": {
      "text/plain": [
       "0.8112781244591328"
      ]
     },
     "execution_count": 14,
     "metadata": {},
     "output_type": "execute_result"
    }
   ],
   "source": [
    "#entropy at left branch depth2\n",
    "-((1/4)*np.log2(1/4)+(3/4)*np.log2(3/4))"
   ]
  },
  {
   "cell_type": "code",
   "execution_count": null,
   "metadata": {
    "colab": {
     "base_uri": "https://localhost:8080/"
    },
    "id": "rCM7HgSnGJLP",
    "outputId": "57dcc9dd-351e-42ad-da81-4747dd63b40a"
   },
   "outputs": [
    {
     "data": {
      "text/plain": [
       "0.4056390622295664"
      ]
     },
     "execution_count": 15,
     "metadata": {},
     "output_type": "execute_result"
    }
   ],
   "source": [
    "0.8112781244591328*(.5)"
   ]
  },
  {
   "cell_type": "code",
   "execution_count": null,
   "metadata": {
    "colab": {
     "base_uri": "https://localhost:8080/"
    },
    "id": "dzS8kJV_AOQs",
    "outputId": "81fdf06d-373f-434d-afb4-47c97e0c74f8"
   },
   "outputs": [
    {
     "data": {
      "text/plain": [
       "0.27548875021634683"
      ]
     },
     "execution_count": 6,
     "metadata": {},
     "output_type": "execute_result"
    }
   ],
   "source": [
    "#weighted entropy\n",
    "0.9182958340544896*(3/10)"
   ]
  },
  {
   "cell_type": "code",
   "execution_count": null,
   "metadata": {
    "colab": {
     "base_uri": "https://localhost:8080/"
    },
    "id": "9OlxGOpU_5id",
    "outputId": "498629a6-c5c6-4fd4-9b7f-11687272b696"
   },
   "outputs": [
    {
     "data": {
      "text/plain": [
       "0.9852281360342515"
      ]
     },
     "execution_count": 5,
     "metadata": {},
     "output_type": "execute_result"
    }
   ],
   "source": [
    "#entropy at right branch depth1\n",
    "-((3/7)*np.log2(3/7)+(4/7)*np.log2(4/7))"
   ]
  },
  {
   "cell_type": "code",
   "execution_count": null,
   "metadata": {
    "colab": {
     "base_uri": "https://localhost:8080/"
    },
    "id": "My4XmJI9BlBK",
    "outputId": "6ec2d761-e124-4008-8847-9de806d9c1eb"
   },
   "outputs": [
    {
     "data": {
      "text/plain": [
       "0.9544340029249649"
      ]
     },
     "execution_count": 10,
     "metadata": {},
     "output_type": "execute_result"
    }
   ],
   "source": [
    "-((3/8)*np.log2(3/8)+(5/8)*np.log2(5/8))"
   ]
  },
  {
   "cell_type": "code",
   "execution_count": null,
   "metadata": {
    "colab": {
     "base_uri": "https://localhost:8080/"
    },
    "id": "9Ddf1T0kBrLg",
    "outputId": "8ff16dee-42ae-475e-ad64-c32cf2d86b73"
   },
   "outputs": [
    {
     "data": {
      "text/plain": [
       "0.763547202339972"
      ]
     },
     "execution_count": 11,
     "metadata": {},
     "output_type": "execute_result"
    }
   ],
   "source": [
    "0.9544340029249649*(8/10)"
   ]
  },
  {
   "cell_type": "code",
   "execution_count": null,
   "metadata": {
    "colab": {
     "base_uri": "https://localhost:8080/"
    },
    "id": "CHTyMz5SAUjs",
    "outputId": "d0f8aa42-7249-49e4-9e53-50b376e9e069"
   },
   "outputs": [
    {
     "data": {
      "text/plain": [
       "0.6896596952239761"
      ]
     },
     "execution_count": 7,
     "metadata": {},
     "output_type": "execute_result"
    }
   ],
   "source": [
    "0.9852281360342515*(7/10)"
   ]
  },
  {
   "cell_type": "code",
   "execution_count": null,
   "metadata": {
    "colab": {
     "base_uri": "https://localhost:8080/"
    },
    "id": "wfNp_FWUAXo4",
    "outputId": "905b4107-b8fe-4691-f88c-f6fb87940c15"
   },
   "outputs": [
    {
     "data": {
      "text/plain": [
       "0.965148445440323"
      ]
     },
     "execution_count": 8,
     "metadata": {},
     "output_type": "execute_result"
    }
   ],
   "source": [
    "#tot entropy at depth1\n",
    "0.6896596952239761+0.27548875021634683"
   ]
  },
  {
   "cell_type": "code",
   "execution_count": null,
   "metadata": {
    "colab": {
     "base_uri": "https://localhost:8080/"
    },
    "id": "OEvs27-bAdh8",
    "outputId": "1b640a8f-ac05-4f0f-ea21-3d3cdb352b47"
   },
   "outputs": [
    {
     "data": {
      "text/plain": [
       "0.034851554559677034"
      ]
     },
     "execution_count": 9,
     "metadata": {},
     "output_type": "execute_result"
    }
   ],
   "source": [
    "#Information gain\n",
    "1-0.965148445440323"
   ]
  },
  {
   "cell_type": "markdown",
   "metadata": {
    "id": "VVP-FNRwDWHI"
   },
   "source": [
    "## Table of Content\n",
    "\n",
    "1. **[Decision tree](#dtree)**\n",
    "2. **[Random forest](#rf)**"
   ]
  },
  {
   "cell_type": "markdown",
   "metadata": {
    "id": "uEWA3ftlDWHI"
   },
   "source": [
    "**Import the required libraries**"
   ]
  },
  {
   "cell_type": "code",
   "execution_count": null,
   "metadata": {
    "id": "bJw4C3A2DWHJ"
   },
   "outputs": [],
   "source": [
    "# import 'Pandas' \n",
    "import pandas as pd \n",
    "\n",
    "# import 'Numpy' \n",
    "import numpy as np\n",
    "\n",
    "# import subpackage of Matplotlib\n",
    "import matplotlib.pyplot as plt\n",
    "from matplotlib.colors import ListedColormap\n",
    "\n",
    "# import 'Seaborn' \n",
    "import seaborn as sns\n",
    "\n",
    "# to suppress warnings \n",
    "from warnings import filterwarnings\n",
    "filterwarnings('ignore')\n",
    "\n",
    "# display all columns of the dataframe\n",
    "pd.options.display.max_columns = None\n",
    "\n",
    "# display all rows of the dataframe\n",
    "pd.options.display.max_rows = None\n",
    " \n",
    "# to display the float values upto 6 decimal places     \n",
    "pd.options.display.float_format = '{:.6f}'.format\n",
    "\n",
    "# import train-test split \n",
    "from sklearn.model_selection import train_test_split\n",
    "\n",
    "# import StandardScaler to perform scaling\n",
    "from sklearn.preprocessing import StandardScaler \n",
    "\n",
    "# resample the dataset\n",
    "#from sklearn.utils import resample\n",
    "#from sklearn.utils import shuffle\n",
    "\n",
    "# import various functions from sklearn \n",
    "from sklearn import metrics\n",
    "from sklearn.metrics import classification_report\n",
    "from sklearn.tree import DecisionTreeClassifier\n",
    "from sklearn.ensemble import RandomForestClassifier\n",
    "from sklearn import tree\n",
    "from sklearn.model_selection import GridSearchCV\n",
    "from sklearn.metrics import accuracy_score\n",
    "from sklearn.metrics import roc_curve\n",
    "from sklearn.metrics import roc_auc_score\n",
    "from sklearn.metrics import confusion_matrix\n",
    "from sklearn.model_selection import GridSearchCV\n",
    "from sklearn.model_selection import cross_val_score\n",
    "\n",
    "# import the functions for visualizing the decision tree\n",
    "import pydotplus\n",
    "from IPython.display import Image  \n",
    "\n",
    "import random"
   ]
  },
  {
   "cell_type": "code",
   "execution_count": null,
   "metadata": {
    "id": "BAXQJQOIDWHL"
   },
   "outputs": [],
   "source": [
    "# set the plot size using 'rcParams'\n",
    "# once the plot size is set using 'rcParams', it sets the size of all the forthcoming plots in the file\n",
    "# pass width and height in inches to 'figure.figsize' \n",
    "plt.rcParams['figure.figsize'] = [15,8]"
   ]
  },
  {
   "cell_type": "code",
   "execution_count": null,
   "metadata": {
    "colab": {
     "base_uri": "https://localhost:8080/"
    },
    "id": "py44M35VF68T",
    "outputId": "1ff22bb6-5652-4282-cc17-128c9e4251f5"
   },
   "outputs": [
    {
     "name": "stdout",
     "output_type": "stream",
     "text": [
      "Mounted at /content/drive\n"
     ]
    }
   ],
   "source": [
    "from google.colab import drive\n",
    "drive.mount('/content/drive')"
   ]
  },
  {
   "cell_type": "markdown",
   "metadata": {
    "id": "FnQff0syDWHM"
   },
   "source": [
    "#### Load the csv file"
   ]
  },
  {
   "cell_type": "code",
   "execution_count": null,
   "metadata": {
    "colab": {
     "base_uri": "https://localhost:8080/",
     "height": 313
    },
    "id": "XvJ_U4gVDWHM",
    "outputId": "aa562305-a899-4f55-f5cc-1a9d695486be"
   },
   "outputs": [
    {
     "data": {
      "text/html": [
       "<div>\n",
       "<style scoped>\n",
       "    .dataframe tbody tr th:only-of-type {\n",
       "        vertical-align: middle;\n",
       "    }\n",
       "\n",
       "    .dataframe tbody tr th {\n",
       "        vertical-align: top;\n",
       "    }\n",
       "\n",
       "    .dataframe thead th {\n",
       "        text-align: right;\n",
       "    }\n",
       "</style>\n",
       "<table border=\"1\" class=\"dataframe\">\n",
       "  <thead>\n",
       "    <tr style=\"text-align: right;\">\n",
       "      <th></th>\n",
       "      <th>Age</th>\n",
       "      <th>Attrition</th>\n",
       "      <th>BusinessTravel</th>\n",
       "      <th>Department</th>\n",
       "      <th>DistanceFromHome</th>\n",
       "      <th>EducationField</th>\n",
       "      <th>EnvironmentSatisfaction</th>\n",
       "      <th>Gender</th>\n",
       "      <th>JobInvolvement</th>\n",
       "      <th>JobLevel</th>\n",
       "      <th>JobRole</th>\n",
       "      <th>JobSatisfaction</th>\n",
       "      <th>MonthlyIncome</th>\n",
       "      <th>NumCompaniesWorked</th>\n",
       "      <th>OverTime</th>\n",
       "      <th>PercentSalaryHike</th>\n",
       "      <th>PerformanceRating</th>\n",
       "      <th>YearsAtCompany</th>\n",
       "    </tr>\n",
       "  </thead>\n",
       "  <tbody>\n",
       "    <tr>\n",
       "      <th>0</th>\n",
       "      <td>33</td>\n",
       "      <td>Yes</td>\n",
       "      <td>Travel_Frequently</td>\n",
       "      <td>Research &amp; Development</td>\n",
       "      <td>3</td>\n",
       "      <td>Life Sciences</td>\n",
       "      <td>1</td>\n",
       "      <td>Male</td>\n",
       "      <td>3</td>\n",
       "      <td>1</td>\n",
       "      <td>Research Scientist</td>\n",
       "      <td>1</td>\n",
       "      <td>3348</td>\n",
       "      <td>1</td>\n",
       "      <td>Yes</td>\n",
       "      <td>11</td>\n",
       "      <td>3</td>\n",
       "      <td>10</td>\n",
       "    </tr>\n",
       "    <tr>\n",
       "      <th>1</th>\n",
       "      <td>32</td>\n",
       "      <td>Yes</td>\n",
       "      <td>Travel_Rarely</td>\n",
       "      <td>Sales</td>\n",
       "      <td>4</td>\n",
       "      <td>Medical</td>\n",
       "      <td>4</td>\n",
       "      <td>Male</td>\n",
       "      <td>1</td>\n",
       "      <td>3</td>\n",
       "      <td>Sales Executive</td>\n",
       "      <td>4</td>\n",
       "      <td>10400</td>\n",
       "      <td>1</td>\n",
       "      <td>No</td>\n",
       "      <td>11</td>\n",
       "      <td>3</td>\n",
       "      <td>14</td>\n",
       "    </tr>\n",
       "    <tr>\n",
       "      <th>2</th>\n",
       "      <td>40</td>\n",
       "      <td>Yes</td>\n",
       "      <td>Travel_Rarely</td>\n",
       "      <td>Research &amp; Development</td>\n",
       "      <td>9</td>\n",
       "      <td>Life Sciences</td>\n",
       "      <td>4</td>\n",
       "      <td>Male</td>\n",
       "      <td>3</td>\n",
       "      <td>1</td>\n",
       "      <td>Laboratory Technician</td>\n",
       "      <td>1</td>\n",
       "      <td>2018</td>\n",
       "      <td>3</td>\n",
       "      <td>No</td>\n",
       "      <td>14</td>\n",
       "      <td>3</td>\n",
       "      <td>5</td>\n",
       "    </tr>\n",
       "    <tr>\n",
       "      <th>3</th>\n",
       "      <td>42</td>\n",
       "      <td>No</td>\n",
       "      <td>Travel_Rarely</td>\n",
       "      <td>Research &amp; Development</td>\n",
       "      <td>7</td>\n",
       "      <td>Medical</td>\n",
       "      <td>2</td>\n",
       "      <td>Female</td>\n",
       "      <td>4</td>\n",
       "      <td>2</td>\n",
       "      <td>Research Scientist</td>\n",
       "      <td>2</td>\n",
       "      <td>2372</td>\n",
       "      <td>6</td>\n",
       "      <td>Yes</td>\n",
       "      <td>16</td>\n",
       "      <td>3</td>\n",
       "      <td>1</td>\n",
       "    </tr>\n",
       "    <tr>\n",
       "      <th>4</th>\n",
       "      <td>43</td>\n",
       "      <td>No</td>\n",
       "      <td>Travel_Frequently</td>\n",
       "      <td>Research &amp; Development</td>\n",
       "      <td>27</td>\n",
       "      <td>Life Sciences</td>\n",
       "      <td>3</td>\n",
       "      <td>Female</td>\n",
       "      <td>3</td>\n",
       "      <td>3</td>\n",
       "      <td>Manufacturing Director</td>\n",
       "      <td>1</td>\n",
       "      <td>10820</td>\n",
       "      <td>8</td>\n",
       "      <td>No</td>\n",
       "      <td>11</td>\n",
       "      <td>3</td>\n",
       "      <td>8</td>\n",
       "    </tr>\n",
       "  </tbody>\n",
       "</table>\n",
       "</div>"
      ],
      "text/plain": [
       "   Age Attrition     BusinessTravel              Department  DistanceFromHome  \\\n",
       "0   33       Yes  Travel_Frequently  Research & Development                 3   \n",
       "1   32       Yes      Travel_Rarely                   Sales                 4   \n",
       "2   40       Yes      Travel_Rarely  Research & Development                 9   \n",
       "3   42        No      Travel_Rarely  Research & Development                 7   \n",
       "4   43        No  Travel_Frequently  Research & Development                27   \n",
       "\n",
       "  EducationField  EnvironmentSatisfaction  Gender  JobInvolvement  JobLevel  \\\n",
       "0  Life Sciences                        1    Male               3         1   \n",
       "1        Medical                        4    Male               1         3   \n",
       "2  Life Sciences                        4    Male               3         1   \n",
       "3        Medical                        2  Female               4         2   \n",
       "4  Life Sciences                        3  Female               3         3   \n",
       "\n",
       "                  JobRole  JobSatisfaction  MonthlyIncome  NumCompaniesWorked  \\\n",
       "0      Research Scientist                1           3348                   1   \n",
       "1         Sales Executive                4          10400                   1   \n",
       "2   Laboratory Technician                1           2018                   3   \n",
       "3      Research Scientist                2           2372                   6   \n",
       "4  Manufacturing Director                1          10820                   8   \n",
       "\n",
       "  OverTime  PercentSalaryHike  PerformanceRating  YearsAtCompany  \n",
       "0      Yes                 11                  3              10  \n",
       "1       No                 11                  3              14  \n",
       "2       No                 14                  3               5  \n",
       "3      Yes                 16                  3               1  \n",
       "4       No                 11                  3               8  "
      ]
     },
     "execution_count": 5,
     "metadata": {},
     "output_type": "execute_result"
    }
   ],
   "source": [
    "# load the csv file\n",
    "df_employee = pd.read_csv('/content/drive/My Drive/SLC/emp_attrition.csv')\n",
    "\n",
    "# display the first two observations\n",
    "df_employee.head()"
   ]
  },
  {
   "cell_type": "code",
   "execution_count": null,
   "metadata": {
    "colab": {
     "base_uri": "https://localhost:8080/"
    },
    "id": "VzHxvjtaDWHO",
    "outputId": "7b82ad76-eac9-4eee-c624-4aa50289972a"
   },
   "outputs": [
    {
     "data": {
      "text/plain": [
       "Age                         int64\n",
       "Attrition                  object\n",
       "BusinessTravel             object\n",
       "Department                 object\n",
       "DistanceFromHome            int64\n",
       "EducationField             object\n",
       "EnvironmentSatisfaction     int64\n",
       "Gender                     object\n",
       "JobInvolvement              int64\n",
       "JobLevel                    int64\n",
       "JobRole                    object\n",
       "JobSatisfaction             int64\n",
       "MonthlyIncome               int64\n",
       "NumCompaniesWorked          int64\n",
       "OverTime                   object\n",
       "PercentSalaryHike           int64\n",
       "PerformanceRating           int64\n",
       "YearsAtCompany              int64\n",
       "dtype: object"
      ]
     },
     "execution_count": 11,
     "metadata": {},
     "output_type": "execute_result"
    }
   ],
   "source": [
    "# check data types of variables\n",
    "df_employee.dtypes"
   ]
  },
  {
   "cell_type": "code",
   "execution_count": null,
   "metadata": {
    "colab": {
     "base_uri": "https://localhost:8080/"
    },
    "id": "wiABDH5-DWHP",
    "outputId": "f3565c7f-b5bb-40c3-b7db-d5cc70b0b90f"
   },
   "outputs": [
    {
     "data": {
      "text/plain": [
       "(1580, 18)"
      ]
     },
     "execution_count": 12,
     "metadata": {},
     "output_type": "execute_result"
    }
   ],
   "source": [
    "# check the size of data\n",
    "df_employee.shape"
   ]
  },
  {
   "cell_type": "markdown",
   "metadata": {
    "collapsed": true,
    "id": "hAiiqkOODWHP"
   },
   "source": [
    "<table align=\"left\">\n",
    "    <tr>\n",
    "        <td width=\"6%\">\n",
    "            <img src=\"question_icon.png\">\n",
    "        </td>\n",
    "        <td>\n",
    "            <div align=\"left\", style=\"font-size:120%\">\n",
    "                <font color=\"#21618C\">\n",
    "                    <b>1. Write a code to detect the outliers in the dataset. Remove the outliers using IQR method, if present.</b>\n",
    "                </font>\n",
    "            </div>\n",
    "        </td>\n",
    "    </tr>\n",
    "</table>"
   ]
  },
  {
   "cell_type": "markdown",
   "metadata": {
    "id": "Ptqivtb1DWHQ"
   },
   "source": [
    "**Check the outliers in all the variables and treat them using IQR technique.**"
   ]
  },
  {
   "cell_type": "code",
   "execution_count": null,
   "metadata": {
    "colab": {
     "base_uri": "https://localhost:8080/",
     "height": 458
    },
    "id": "2y27FVmrDWHQ",
    "outputId": "bd6aa069-437a-477a-f407-dc0f7ce1eea9"
   },
   "outputs": [
    {
     "data": {
      "image/png": "[encoded data removed]",
      "text/plain": [
       "<Figure size 432x288 with 1 Axes>"
      ]
     },
     "metadata": {
      "needs_background": "light"
     },
     "output_type": "display_data"
    }
   ],
   "source": [
    "# plot a boxplot to visualize the outliers in all the numeric variables\n",
    "df_employee.boxplot()\n",
    "\n",
    "# set plot label\n",
    "# set text size using 'fontsize'\n",
    "plt.title('Distribution of all Numeric Variables', fontsize = 15)\n",
    "\n",
    "# xticks() returns the x-axis ticks\n",
    "# 'rotation = vertical' rotates the x-axis labels vertically\n",
    "# set text size using 'fontsize'\n",
    "plt.xticks(rotation = 'vertical', fontsize = 15)\n",
    "\n",
    "# display the plot\n",
    "plt.show()"
   ]
  },
  {
   "cell_type": "markdown",
   "metadata": {
    "id": "0t0R-6CJDWHR"
   },
   "source": [
    "**Notice that the variable 'MonthlyIncome' has a quite large range as compared to the other variables. Thus, it is difficult to see the outliers in other variables. So, we plot the boxplots of independent variables again by not considering the variable 'MonthlyIncome'**"
   ]
  },
  {
   "cell_type": "code",
   "execution_count": null,
   "metadata": {
    "colab": {
     "base_uri": "https://localhost:8080/",
     "height": 676
    },
    "id": "kdcwzEwJDWHR",
    "outputId": "40ec409f-3dd9-4246-8634-2023fc58df7a",
    "scrolled": false
   },
   "outputs": [
    {
     "data": {
      "image/png": "[encoded data removed]",
      "text/plain": [
       "<Figure size 1080x576 with 1 Axes>"
      ]
     },
     "metadata": {
      "needs_background": "light"
     },
     "output_type": "display_data"
    }
   ],
   "source": [
    "# plot boxplots of all the numeric variables except 'MonthlyIncome'\n",
    "df_employee[['Age', 'DistanceFromHome', 'EnvironmentSatisfaction', 'JobInvolvement', 'JobLevel', 'JobSatisfaction',\n",
    "            'NumCompaniesWorked', 'PercentSalaryHike', 'PerformanceRating', 'YearsAtCompany']].boxplot()\n",
    "\n",
    "# set plot label\n",
    "# set text size using 'fontsize'\n",
    "plt.title('Distribution of Independent Variables (except \"MonthlyIncome\")', fontsize = 15)\n",
    "\n",
    "# xticks() returns the x-axis ticks\n",
    "# 'rotation = vertical' rotates the x-axis labels vertically\n",
    "plt.xticks(rotation = 'vertical', fontsize = 15)\n",
    "\n",
    "# display the plot\n",
    "plt.show()"
   ]
  },
  {
   "cell_type": "markdown",
   "metadata": {
    "id": "HkA2NdPODWHR"
   },
   "source": [
    "**Interpretation:** From the above plots, we notice that some of the variables have points above the upper extreme or below the lower extreme - these points are outliers in the data. However, the exact location of these points is not precisely seen.\n",
    "\n",
    "Let us use the IQR method to remove the outliers."
   ]
  },
  {
   "cell_type": "code",
   "execution_count": null,
   "metadata": {
    "colab": {
     "base_uri": "https://localhost:8080/"
    },
    "id": "9qL_m-B5DWHS",
    "outputId": "01e22a94-4d7f-404e-f21b-d5b3802babcd"
   },
   "outputs": [
    {
     "data": {
      "text/plain": [
       "(1487, 18)"
      ]
     },
     "execution_count": 6,
     "metadata": {},
     "output_type": "execute_result"
    }
   ],
   "source": [
    "# calculate the first quartile\n",
    "Q1 = df_employee.quantile(0.25)\n",
    "\n",
    "#calculate the third quartile\n",
    "Q3 = df_employee.quantile(0.75)\n",
    "\n",
    "# The Interquartile Range (IQR) is defined as the difference between the third and first quartile\n",
    "# calculate IQR\n",
    "IQR = Q3 - Q1\n",
    "\n",
    "# remove the outliers from the dataframe\n",
    "df_employee = df_employee[~((df_employee < (Q1 - 1.5 * IQR)) | (df_employee > (Q3 + 1.5 * IQR))).any(axis=1)]\n",
    "\n",
    "# reset the row index\n",
    "df_employee = df_employee.reset_index(drop=True)\n",
    "\n",
    "# check the shape of the data\n",
    "df_employee.shape"
   ]
  },
  {
   "cell_type": "markdown",
   "metadata": {
    "id": "fO40SwEJDWHS"
   },
   "source": [
    "### Let's begin with some hands-on practice exercises"
   ]
  },
  {
   "cell_type": "markdown",
   "metadata": {
    "id": "bSCFi3sPDWHS"
   },
   "source": [
    "<a id=\"dtree\"> </a>\n",
    "## 1. Decision tree"
   ]
  },
  {
   "cell_type": "markdown",
   "metadata": {
    "id": "bBe8FzjCDWHT"
   },
   "source": [
    "## We shall use the employee dataset"
   ]
  },
  {
   "cell_type": "markdown",
   "metadata": {
    "collapsed": true,
    "id": "FOSZHY8eDWHT"
   },
   "source": [
    "<table align=\"left\">\n",
    "    <tr>\n",
    "        <td width=\"6%\">\n",
    "            <img src=\"question_icon.png\">\n",
    "        </td>\n",
    "        <td>\n",
    "            <div align=\"left\", style=\"font-size:120%\">\n",
    "                <font color=\"#21618C\">\n",
    "                    <b>2. Build a model to predict whether or not an employee will leave the company based on employee's environment satisfaction and monthly income. Calculate the accuracy for the model.</b>\n",
    "                </font>\n",
    "            </div>\n",
    "        </td>\n",
    "    </tr>\n",
    "</table>"
   ]
  },
  {
   "cell_type": "markdown",
   "metadata": {
    "id": "RgPtTEjJDWHT"
   },
   "source": [
    "#### Split the dependent and independent variables."
   ]
  },
  {
   "cell_type": "code",
   "execution_count": null,
   "metadata": {
    "id": "FDKzbE4UDWHU"
   },
   "outputs": [],
   "source": [
    "# store the target variable \"Attrition\" in a dataframe 'df_target'\n",
    "df_target = df_employee['Attrition']\n",
    "\n",
    "# store all the independent variables in a dataframe 'df_feature' \n",
    "# drop the column \"Attrition\" using drop()\n",
    "# 'axis = 1' drops the specified column\n",
    "df_feature = df_employee.drop('Attrition', axis = 1)"
   ]
  },
  {
   "cell_type": "code",
   "execution_count": null,
   "metadata": {
    "id": "TbysEmVyDWHU",
    "scrolled": true
   },
   "outputs": [],
   "source": [
    "# if the value in the target variable is 'Yes' then replace it with 1 else with 0\n",
    "for i in range(len(df_target)):\n",
    "    if df_target[i] == 'Yes':\n",
    "        df_target[i] = 1\n",
    "    else:\n",
    "        df_target[i] = 0\n",
    "        \n",
    "# change the datatype of the target variable to integer\n",
    "df_target = df_target.astype('int')"
   ]
  },
  {
   "cell_type": "markdown",
   "metadata": {
    "id": "0XpOV1biDWHU"
   },
   "source": [
    "#### Filter numerical and categorical variables."
   ]
  },
  {
   "cell_type": "code",
   "execution_count": null,
   "metadata": {
    "colab": {
     "base_uri": "https://localhost:8080/"
    },
    "id": "EJBkzTwSDWHV",
    "outputId": "63cc70b6-eee8-4c1f-e895-7edcab87fee4"
   },
   "outputs": [
    {
     "data": {
      "text/plain": [
       "Index(['Age', 'DistanceFromHome', 'EnvironmentSatisfaction', 'JobInvolvement',\n",
       "       'JobLevel', 'JobSatisfaction', 'MonthlyIncome', 'NumCompaniesWorked',\n",
       "       'PercentSalaryHike', 'PerformanceRating', 'YearsAtCompany'],\n",
       "      dtype='object')"
      ]
     },
     "execution_count": 9,
     "metadata": {},
     "output_type": "execute_result"
    }
   ],
   "source": [
    "# filter the numerical features in the dataset\n",
    "# 'select_dtypes' is used to select the variables with given data type\n",
    "# 'include = [np.number]' will include all the numerical variables\n",
    "df_num = df_feature.select_dtypes(include = [np.number])\n",
    "\n",
    "# display numerical features\n",
    "df_num.columns"
   ]
  },
  {
   "cell_type": "code",
   "execution_count": null,
   "metadata": {
    "colab": {
     "base_uri": "https://localhost:8080/"
    },
    "id": "RiKYt80yDWHV",
    "outputId": "1ccad7f3-ea7a-4381-9e21-e4a520df6a99"
   },
   "outputs": [
    {
     "data": {
      "text/plain": [
       "Index(['BusinessTravel', 'Department', 'EducationField', 'Gender', 'JobRole',\n",
       "       'OverTime'],\n",
       "      dtype='object')"
      ]
     },
     "execution_count": 10,
     "metadata": {},
     "output_type": "execute_result"
    }
   ],
   "source": [
    "# filter the categorical features in the dataset\n",
    "# 'select_dtypes' is used to select the variables with given data type\n",
    "# 'include = [np.object]' will include all the categorical variables\n",
    "df_cat = df_feature.select_dtypes(include = [np.object])\n",
    "\n",
    "# display categorical features\n",
    "df_cat.columns"
   ]
  },
  {
   "cell_type": "markdown",
   "metadata": {
    "id": "1tKRf5vaDWHV"
   },
   "source": [
    "**Encode the each categorical variable and create (n-1) dummy variables for n categories of the variable.**"
   ]
  },
  {
   "cell_type": "code",
   "execution_count": null,
   "metadata": {
    "id": "nqXOzZP9DWHV"
   },
   "outputs": [],
   "source": [
    "# use 'get_dummies' from pandas to create dummy variables\n",
    "# use 'drop_first' to create (n-1) dummy variables\n",
    "dummy_var = pd.get_dummies(data = df_cat, drop_first = True)"
   ]
  },
  {
   "cell_type": "markdown",
   "metadata": {
    "id": "_VzQ17C1DWHW"
   },
   "source": [
    "#### Concatenate numerical and dummy encoded categorical variables."
   ]
  },
  {
   "cell_type": "code",
   "execution_count": null,
   "metadata": {
    "colab": {
     "base_uri": "https://localhost:8080/",
     "height": 243
    },
    "id": "PR-mG-fbDWHW",
    "outputId": "3c9324d8-48b0-4bd5-efe3-b123d9786d03",
    "scrolled": true
   },
   "outputs": [
    {
     "data": {
      "text/html": [
       "<div>\n",
       "<style scoped>\n",
       "    .dataframe tbody tr th:only-of-type {\n",
       "        vertical-align: middle;\n",
       "    }\n",
       "\n",
       "    .dataframe tbody tr th {\n",
       "        vertical-align: top;\n",
       "    }\n",
       "\n",
       "    .dataframe thead th {\n",
       "        text-align: right;\n",
       "    }\n",
       "</style>\n",
       "<table border=\"1\" class=\"dataframe\">\n",
       "  <thead>\n",
       "    <tr style=\"text-align: right;\">\n",
       "      <th></th>\n",
       "      <th>Age</th>\n",
       "      <th>DistanceFromHome</th>\n",
       "      <th>EnvironmentSatisfaction</th>\n",
       "      <th>JobInvolvement</th>\n",
       "      <th>JobLevel</th>\n",
       "      <th>JobSatisfaction</th>\n",
       "      <th>MonthlyIncome</th>\n",
       "      <th>NumCompaniesWorked</th>\n",
       "      <th>PercentSalaryHike</th>\n",
       "      <th>PerformanceRating</th>\n",
       "      <th>YearsAtCompany</th>\n",
       "      <th>BusinessTravel_Travel_Frequently</th>\n",
       "      <th>BusinessTravel_Travel_Rarely</th>\n",
       "      <th>Department_Research &amp; Development</th>\n",
       "      <th>Department_Sales</th>\n",
       "      <th>EducationField_Life Sciences</th>\n",
       "      <th>EducationField_Marketing</th>\n",
       "      <th>EducationField_Medical</th>\n",
       "      <th>EducationField_Other</th>\n",
       "      <th>EducationField_Technical Degree</th>\n",
       "      <th>Gender_Male</th>\n",
       "      <th>JobRole_Human Resources</th>\n",
       "      <th>JobRole_Laboratory Technician</th>\n",
       "      <th>JobRole_Manager</th>\n",
       "      <th>JobRole_Manufacturing Director</th>\n",
       "      <th>JobRole_Research Director</th>\n",
       "      <th>JobRole_Research Scientist</th>\n",
       "      <th>JobRole_Sales Executive</th>\n",
       "      <th>JobRole_Sales Representative</th>\n",
       "      <th>OverTime_Yes</th>\n",
       "    </tr>\n",
       "  </thead>\n",
       "  <tbody>\n",
       "    <tr>\n",
       "      <th>0</th>\n",
       "      <td>33</td>\n",
       "      <td>3</td>\n",
       "      <td>1</td>\n",
       "      <td>3</td>\n",
       "      <td>1</td>\n",
       "      <td>1</td>\n",
       "      <td>3348</td>\n",
       "      <td>1</td>\n",
       "      <td>11</td>\n",
       "      <td>3</td>\n",
       "      <td>10</td>\n",
       "      <td>1</td>\n",
       "      <td>0</td>\n",
       "      <td>1</td>\n",
       "      <td>0</td>\n",
       "      <td>1</td>\n",
       "      <td>0</td>\n",
       "      <td>0</td>\n",
       "      <td>0</td>\n",
       "      <td>0</td>\n",
       "      <td>1</td>\n",
       "      <td>0</td>\n",
       "      <td>0</td>\n",
       "      <td>0</td>\n",
       "      <td>0</td>\n",
       "      <td>0</td>\n",
       "      <td>1</td>\n",
       "      <td>0</td>\n",
       "      <td>0</td>\n",
       "      <td>1</td>\n",
       "    </tr>\n",
       "    <tr>\n",
       "      <th>1</th>\n",
       "      <td>32</td>\n",
       "      <td>4</td>\n",
       "      <td>4</td>\n",
       "      <td>1</td>\n",
       "      <td>3</td>\n",
       "      <td>4</td>\n",
       "      <td>10400</td>\n",
       "      <td>1</td>\n",
       "      <td>11</td>\n",
       "      <td>3</td>\n",
       "      <td>14</td>\n",
       "      <td>0</td>\n",
       "      <td>1</td>\n",
       "      <td>0</td>\n",
       "      <td>1</td>\n",
       "      <td>0</td>\n",
       "      <td>0</td>\n",
       "      <td>1</td>\n",
       "      <td>0</td>\n",
       "      <td>0</td>\n",
       "      <td>1</td>\n",
       "      <td>0</td>\n",
       "      <td>0</td>\n",
       "      <td>0</td>\n",
       "      <td>0</td>\n",
       "      <td>0</td>\n",
       "      <td>0</td>\n",
       "      <td>1</td>\n",
       "      <td>0</td>\n",
       "      <td>0</td>\n",
       "    </tr>\n",
       "    <tr>\n",
       "      <th>2</th>\n",
       "      <td>40</td>\n",
       "      <td>9</td>\n",
       "      <td>4</td>\n",
       "      <td>3</td>\n",
       "      <td>1</td>\n",
       "      <td>1</td>\n",
       "      <td>2018</td>\n",
       "      <td>3</td>\n",
       "      <td>14</td>\n",
       "      <td>3</td>\n",
       "      <td>5</td>\n",
       "      <td>0</td>\n",
       "      <td>1</td>\n",
       "      <td>1</td>\n",
       "      <td>0</td>\n",
       "      <td>1</td>\n",
       "      <td>0</td>\n",
       "      <td>0</td>\n",
       "      <td>0</td>\n",
       "      <td>0</td>\n",
       "      <td>1</td>\n",
       "      <td>0</td>\n",
       "      <td>1</td>\n",
       "      <td>0</td>\n",
       "      <td>0</td>\n",
       "      <td>0</td>\n",
       "      <td>0</td>\n",
       "      <td>0</td>\n",
       "      <td>0</td>\n",
       "      <td>0</td>\n",
       "    </tr>\n",
       "    <tr>\n",
       "      <th>3</th>\n",
       "      <td>42</td>\n",
       "      <td>7</td>\n",
       "      <td>2</td>\n",
       "      <td>4</td>\n",
       "      <td>2</td>\n",
       "      <td>2</td>\n",
       "      <td>2372</td>\n",
       "      <td>6</td>\n",
       "      <td>16</td>\n",
       "      <td>3</td>\n",
       "      <td>1</td>\n",
       "      <td>0</td>\n",
       "      <td>1</td>\n",
       "      <td>1</td>\n",
       "      <td>0</td>\n",
       "      <td>0</td>\n",
       "      <td>0</td>\n",
       "      <td>1</td>\n",
       "      <td>0</td>\n",
       "      <td>0</td>\n",
       "      <td>0</td>\n",
       "      <td>0</td>\n",
       "      <td>0</td>\n",
       "      <td>0</td>\n",
       "      <td>0</td>\n",
       "      <td>0</td>\n",
       "      <td>1</td>\n",
       "      <td>0</td>\n",
       "      <td>0</td>\n",
       "      <td>1</td>\n",
       "    </tr>\n",
       "    <tr>\n",
       "      <th>4</th>\n",
       "      <td>43</td>\n",
       "      <td>27</td>\n",
       "      <td>3</td>\n",
       "      <td>3</td>\n",
       "      <td>3</td>\n",
       "      <td>1</td>\n",
       "      <td>10820</td>\n",
       "      <td>8</td>\n",
       "      <td>11</td>\n",
       "      <td>3</td>\n",
       "      <td>8</td>\n",
       "      <td>1</td>\n",
       "      <td>0</td>\n",
       "      <td>1</td>\n",
       "      <td>0</td>\n",
       "      <td>1</td>\n",
       "      <td>0</td>\n",
       "      <td>0</td>\n",
       "      <td>0</td>\n",
       "      <td>0</td>\n",
       "      <td>0</td>\n",
       "      <td>0</td>\n",
       "      <td>0</td>\n",
       "      <td>0</td>\n",
       "      <td>1</td>\n",
       "      <td>0</td>\n",
       "      <td>0</td>\n",
       "      <td>0</td>\n",
       "      <td>0</td>\n",
       "      <td>0</td>\n",
       "    </tr>\n",
       "  </tbody>\n",
       "</table>\n",
       "</div>"
      ],
      "text/plain": [
       "   Age  DistanceFromHome  EnvironmentSatisfaction  JobInvolvement  JobLevel  \\\n",
       "0   33                 3                        1               3         1   \n",
       "1   32                 4                        4               1         3   \n",
       "2   40                 9                        4               3         1   \n",
       "3   42                 7                        2               4         2   \n",
       "4   43                27                        3               3         3   \n",
       "\n",
       "   JobSatisfaction  MonthlyIncome  NumCompaniesWorked  PercentSalaryHike  \\\n",
       "0                1           3348                   1                 11   \n",
       "1                4          10400                   1                 11   \n",
       "2                1           2018                   3                 14   \n",
       "3                2           2372                   6                 16   \n",
       "4                1          10820                   8                 11   \n",
       "\n",
       "   PerformanceRating  YearsAtCompany  BusinessTravel_Travel_Frequently  \\\n",
       "0                  3              10                                 1   \n",
       "1                  3              14                                 0   \n",
       "2                  3               5                                 0   \n",
       "3                  3               1                                 0   \n",
       "4                  3               8                                 1   \n",
       "\n",
       "   BusinessTravel_Travel_Rarely  Department_Research & Development  \\\n",
       "0                             0                                  1   \n",
       "1                             1                                  0   \n",
       "2                             1                                  1   \n",
       "3                             1                                  1   \n",
       "4                             0                                  1   \n",
       "\n",
       "   Department_Sales  EducationField_Life Sciences  EducationField_Marketing  \\\n",
       "0                 0                             1                         0   \n",
       "1                 1                             0                         0   \n",
       "2                 0                             1                         0   \n",
       "3                 0                             0                         0   \n",
       "4                 0                             1                         0   \n",
       "\n",
       "   EducationField_Medical  EducationField_Other  \\\n",
       "0                       0                     0   \n",
       "1                       1                     0   \n",
       "2                       0                     0   \n",
       "3                       1                     0   \n",
       "4                       0                     0   \n",
       "\n",
       "   EducationField_Technical Degree  Gender_Male  JobRole_Human Resources  \\\n",
       "0                                0            1                        0   \n",
       "1                                0            1                        0   \n",
       "2                                0            1                        0   \n",
       "3                                0            0                        0   \n",
       "4                                0            0                        0   \n",
       "\n",
       "   JobRole_Laboratory Technician  JobRole_Manager  \\\n",
       "0                              0                0   \n",
       "1                              0                0   \n",
       "2                              1                0   \n",
       "3                              0                0   \n",
       "4                              0                0   \n",
       "\n",
       "   JobRole_Manufacturing Director  JobRole_Research Director  \\\n",
       "0                               0                          0   \n",
       "1                               0                          0   \n",
       "2                               0                          0   \n",
       "3                               0                          0   \n",
       "4                               1                          0   \n",
       "\n",
       "   JobRole_Research Scientist  JobRole_Sales Executive  \\\n",
       "0                           1                        0   \n",
       "1                           0                        1   \n",
       "2                           0                        0   \n",
       "3                           1                        0   \n",
       "4                           0                        0   \n",
       "\n",
       "   JobRole_Sales Representative  OverTime_Yes  \n",
       "0                             0             1  \n",
       "1                             0             0  \n",
       "2                             0             0  \n",
       "3                             0             1  \n",
       "4                             0             0  "
      ]
     },
     "execution_count": 12,
     "metadata": {},
     "output_type": "execute_result"
    }
   ],
   "source": [
    "# concat the dummy variables with numeric features to create a dataframe of all independent variables\n",
    "# 'axis=1' concats the dataframes along columns \n",
    "X = pd.concat([df_num, dummy_var], axis = 1)\n",
    "\n",
    "# display first five observations\n",
    "X.head()"
   ]
  },
  {
   "cell_type": "code",
   "execution_count": null,
   "metadata": {
    "id": "zxeGmPSjYatk"
   },
   "outputs": [],
   "source": [
    "from sklearn.tree import DecisionTreeClassifier"
   ]
  },
  {
   "cell_type": "code",
   "execution_count": null,
   "metadata": {
    "colab": {
     "base_uri": "https://localhost:8080/"
    },
    "id": "V9jNnl5VDWHX",
    "outputId": "c4d9b249-11af-4da2-ac85-794333cb5f3e"
   },
   "outputs": [
    {
     "name": "stdout",
     "output_type": "stream",
     "text": [
      "Test_Accuracy: 0.8568232662192393\n"
     ]
    }
   ],
   "source": [
    "# split the target and independent variables\n",
    "# store all the relevant independent variables in a dataframe 'X_subset' \n",
    "X_subset = X.iloc[:,[2,6]]\n",
    "\n",
    "# split data into train subset and test subset\n",
    "# set 'random_state' to generate the same dataset each time you run the code \n",
    "# 'test_size' returns the proportion of data to be included in the test set\n",
    "X_train, X_test, y_train, y_test = train_test_split(X_subset, df_target, random_state = 10, test_size = 0.3)\n",
    "\n",
    "# instantiate the 'DecisionTreeClassifier' object using 'gini' criterion\n",
    "# pass the 'random_state' to obtain the same samples for each time you run the code\n",
    "decision_tree = DecisionTreeClassifier(random_state=10)\n",
    "\n",
    "# fit the model using fit() on train data\n",
    "decision_tree = decision_tree.fit(X_train, y_train)\n",
    "\n",
    "# predict the attrition for test set\n",
    "y_pred = decision_tree.predict(X_test)\n",
    "\n",
    "# pass the actual and predicted target values to the accuracy_score()\n",
    "print(\"Test_Accuracy:\",accuracy_score(y_test, y_pred))"
   ]
  },
  {
   "cell_type": "code",
   "execution_count": null,
   "metadata": {
    "colab": {
     "base_uri": "https://localhost:8080/"
    },
    "id": "OcRgGq8LxA-N",
    "outputId": "f95f51fa-47ba-4bb2-de91-57140dbe2ece"
   },
   "outputs": [
    {
     "name": "stdout",
     "output_type": "stream",
     "text": [
      "Test_Accuracy: 0.9951923076923077\n"
     ]
    }
   ],
   "source": [
    "#calculate training accuracy\n",
    "y_pred_train = decision_tree.predict(X_train)\n",
    "\n",
    "# pass the actual and predicted target values to the accuracy_score()\n",
    "print(\"Test_Accuracy:\",accuracy_score(y_train, y_pred_train))"
   ]
  },
  {
   "cell_type": "code",
   "execution_count": null,
   "metadata": {
    "colab": {
     "base_uri": "https://localhost:8080/"
    },
    "id": "9F_UdQ00Z21T",
    "outputId": "b41d659d-66b5-4400-b21e-bff66d0b0ede"
   },
   "outputs": [
    {
     "name": "stdout",
     "output_type": "stream",
     "text": [
      "Training_Accuracy: 0.9951923076923077\n"
     ]
    }
   ],
   "source": [
    "#What is the acc of training records\n",
    "y_pred_train=decision_tree.predict(X_train)\n",
    "print(\"Training_Accuracy:\",accuracy_score(y_train, y_pred_train))"
   ]
  },
  {
   "cell_type": "code",
   "execution_count": null,
   "metadata": {
    "colab": {
     "base_uri": "https://localhost:8080/"
    },
    "id": "QRwdrX4Fer3D",
    "outputId": "6d046590-ec2a-48f8-f9bf-119a81e7a2ad"
   },
   "outputs": [
    {
     "data": {
      "text/plain": [
       "(1487, 30)"
      ]
     },
     "execution_count": 34,
     "metadata": {},
     "output_type": "execute_result"
    }
   ],
   "source": [
    "X.shape"
   ]
  },
  {
   "cell_type": "markdown",
   "metadata": {
    "collapsed": true,
    "id": "3VSywTEwDWHX"
   },
   "source": [
    "<table align=\"left\">\n",
    "    <tr>\n",
    "        <td width=\"6%\">\n",
    "            <img src=\"question_icon.png\">\n",
    "        </td>\n",
    "        <td>\n",
    "            <div align=\"left\", style=\"font-size:120%\">\n",
    "                <font color=\"#21618C\">\n",
    "                    <b>3. Build a full model to predict if an employee will leave the company. Find three features that impact the model prediction the most.</b>\n",
    "                </font>\n",
    "            </div>\n",
    "        </td>\n",
    "    </tr>\n",
    "</table>"
   ]
  },
  {
   "cell_type": "code",
   "execution_count": null,
   "metadata": {
    "colab": {
     "base_uri": "https://localhost:8080/"
    },
    "id": "_R_Gmh4DDWHY",
    "outputId": "1ac846fd-cc04-4022-d9a6-06442031b717"
   },
   "outputs": [
    {
     "name": "stdout",
     "output_type": "stream",
     "text": [
      "Test_Accuracy: 0.901565995525727\n"
     ]
    }
   ],
   "source": [
    "# split data into train subset and test subset\n",
    "# set 'random_state' to generate the same dataset each time you run the code \n",
    "# 'test_size' returns the proportion of data to be included in the test set\n",
    "X_train, X_test, y_train, y_test = train_test_split(X, df_target, random_state = 10, test_size = 0.3)\n",
    "\n",
    "# instantiate the 'DecisionTreeClassifier' object using 'gini' criterion\n",
    "# pass the 'random_state' to obtain the same samples for each time you run the code\n",
    "decision_tree_full = DecisionTreeClassifier(random_state=10)\n",
    "\n",
    "# fit the model using fit() on train data\n",
    "decision_tree_full = decision_tree_full.fit(X_train, y_train)\n",
    "\n",
    "# predict the attrition for test set\n",
    "y_pred_full = decision_tree_full.predict(X_test)\n",
    "\n",
    "# predict the attrition for test set\n",
    "y_pred = decision_tree_full.predict(X_test)\n",
    "\n",
    "# pass the actual and predicted target values to the accuracy_score()\n",
    "print(\"Test_Accuracy:\",accuracy_score(y_test, y_pred))\n"
   ]
  },
  {
   "cell_type": "code",
   "execution_count": null,
   "metadata": {
    "colab": {
     "base_uri": "https://localhost:8080/",
     "height": 989
    },
    "id": "cqUJFJfdyYfm",
    "outputId": "3783ced3-4df1-42fc-dc2d-9c838c9fc64a"
   },
   "outputs": [
    {
     "data": {
      "text/html": [
       "<div>\n",
       "<style scoped>\n",
       "    .dataframe tbody tr th:only-of-type {\n",
       "        vertical-align: middle;\n",
       "    }\n",
       "\n",
       "    .dataframe tbody tr th {\n",
       "        vertical-align: top;\n",
       "    }\n",
       "\n",
       "    .dataframe thead th {\n",
       "        text-align: right;\n",
       "    }\n",
       "</style>\n",
       "<table border=\"1\" class=\"dataframe\">\n",
       "  <thead>\n",
       "    <tr style=\"text-align: right;\">\n",
       "      <th></th>\n",
       "      <th>Features</th>\n",
       "      <th>Importance</th>\n",
       "    </tr>\n",
       "  </thead>\n",
       "  <tbody>\n",
       "    <tr>\n",
       "      <th>0</th>\n",
       "      <td>Age</td>\n",
       "      <td>0.150081</td>\n",
       "    </tr>\n",
       "    <tr>\n",
       "      <th>6</th>\n",
       "      <td>MonthlyIncome</td>\n",
       "      <td>0.134097</td>\n",
       "    </tr>\n",
       "    <tr>\n",
       "      <th>1</th>\n",
       "      <td>DistanceFromHome</td>\n",
       "      <td>0.097001</td>\n",
       "    </tr>\n",
       "    <tr>\n",
       "      <th>10</th>\n",
       "      <td>YearsAtCompany</td>\n",
       "      <td>0.068787</td>\n",
       "    </tr>\n",
       "    <tr>\n",
       "      <th>29</th>\n",
       "      <td>OverTime_Yes</td>\n",
       "      <td>0.068532</td>\n",
       "    </tr>\n",
       "    <tr>\n",
       "      <th>3</th>\n",
       "      <td>JobInvolvement</td>\n",
       "      <td>0.065690</td>\n",
       "    </tr>\n",
       "    <tr>\n",
       "      <th>8</th>\n",
       "      <td>PercentSalaryHike</td>\n",
       "      <td>0.059935</td>\n",
       "    </tr>\n",
       "    <tr>\n",
       "      <th>7</th>\n",
       "      <td>NumCompaniesWorked</td>\n",
       "      <td>0.058395</td>\n",
       "    </tr>\n",
       "    <tr>\n",
       "      <th>5</th>\n",
       "      <td>JobSatisfaction</td>\n",
       "      <td>0.048514</td>\n",
       "    </tr>\n",
       "    <tr>\n",
       "      <th>2</th>\n",
       "      <td>EnvironmentSatisfaction</td>\n",
       "      <td>0.043252</td>\n",
       "    </tr>\n",
       "    <tr>\n",
       "      <th>19</th>\n",
       "      <td>EducationField_Technical Degree</td>\n",
       "      <td>0.028705</td>\n",
       "    </tr>\n",
       "    <tr>\n",
       "      <th>28</th>\n",
       "      <td>JobRole_Sales Representative</td>\n",
       "      <td>0.026778</td>\n",
       "    </tr>\n",
       "    <tr>\n",
       "      <th>4</th>\n",
       "      <td>JobLevel</td>\n",
       "      <td>0.020528</td>\n",
       "    </tr>\n",
       "    <tr>\n",
       "      <th>27</th>\n",
       "      <td>JobRole_Sales Executive</td>\n",
       "      <td>0.017673</td>\n",
       "    </tr>\n",
       "    <tr>\n",
       "      <th>20</th>\n",
       "      <td>Gender_Male</td>\n",
       "      <td>0.016988</td>\n",
       "    </tr>\n",
       "    <tr>\n",
       "      <th>11</th>\n",
       "      <td>BusinessTravel_Travel_Frequently</td>\n",
       "      <td>0.015660</td>\n",
       "    </tr>\n",
       "    <tr>\n",
       "      <th>26</th>\n",
       "      <td>JobRole_Research Scientist</td>\n",
       "      <td>0.013949</td>\n",
       "    </tr>\n",
       "    <tr>\n",
       "      <th>15</th>\n",
       "      <td>EducationField_Life Sciences</td>\n",
       "      <td>0.013934</td>\n",
       "    </tr>\n",
       "    <tr>\n",
       "      <th>24</th>\n",
       "      <td>JobRole_Manufacturing Director</td>\n",
       "      <td>0.012400</td>\n",
       "    </tr>\n",
       "    <tr>\n",
       "      <th>14</th>\n",
       "      <td>Department_Sales</td>\n",
       "      <td>0.010232</td>\n",
       "    </tr>\n",
       "    <tr>\n",
       "      <th>12</th>\n",
       "      <td>BusinessTravel_Travel_Rarely</td>\n",
       "      <td>0.008272</td>\n",
       "    </tr>\n",
       "    <tr>\n",
       "      <th>22</th>\n",
       "      <td>JobRole_Laboratory Technician</td>\n",
       "      <td>0.007970</td>\n",
       "    </tr>\n",
       "    <tr>\n",
       "      <th>18</th>\n",
       "      <td>EducationField_Other</td>\n",
       "      <td>0.006140</td>\n",
       "    </tr>\n",
       "    <tr>\n",
       "      <th>17</th>\n",
       "      <td>EducationField_Medical</td>\n",
       "      <td>0.003327</td>\n",
       "    </tr>\n",
       "    <tr>\n",
       "      <th>16</th>\n",
       "      <td>EducationField_Marketing</td>\n",
       "      <td>0.003160</td>\n",
       "    </tr>\n",
       "    <tr>\n",
       "      <th>21</th>\n",
       "      <td>JobRole_Human Resources</td>\n",
       "      <td>0.000000</td>\n",
       "    </tr>\n",
       "    <tr>\n",
       "      <th>23</th>\n",
       "      <td>JobRole_Manager</td>\n",
       "      <td>0.000000</td>\n",
       "    </tr>\n",
       "    <tr>\n",
       "      <th>25</th>\n",
       "      <td>JobRole_Research Director</td>\n",
       "      <td>0.000000</td>\n",
       "    </tr>\n",
       "    <tr>\n",
       "      <th>13</th>\n",
       "      <td>Department_Research &amp; Development</td>\n",
       "      <td>0.000000</td>\n",
       "    </tr>\n",
       "    <tr>\n",
       "      <th>9</th>\n",
       "      <td>PerformanceRating</td>\n",
       "      <td>0.000000</td>\n",
       "    </tr>\n",
       "  </tbody>\n",
       "</table>\n",
       "</div>"
      ],
      "text/plain": [
       "                             Features  Importance\n",
       "0                                 Age    0.150081\n",
       "6                       MonthlyIncome    0.134097\n",
       "1                    DistanceFromHome    0.097001\n",
       "10                     YearsAtCompany    0.068787\n",
       "29                       OverTime_Yes    0.068532\n",
       "3                      JobInvolvement    0.065690\n",
       "8                   PercentSalaryHike    0.059935\n",
       "7                  NumCompaniesWorked    0.058395\n",
       "5                     JobSatisfaction    0.048514\n",
       "2             EnvironmentSatisfaction    0.043252\n",
       "19    EducationField_Technical Degree    0.028705\n",
       "28       JobRole_Sales Representative    0.026778\n",
       "4                            JobLevel    0.020528\n",
       "27            JobRole_Sales Executive    0.017673\n",
       "20                        Gender_Male    0.016988\n",
       "11   BusinessTravel_Travel_Frequently    0.015660\n",
       "26         JobRole_Research Scientist    0.013949\n",
       "15       EducationField_Life Sciences    0.013934\n",
       "24     JobRole_Manufacturing Director    0.012400\n",
       "14                   Department_Sales    0.010232\n",
       "12       BusinessTravel_Travel_Rarely    0.008272\n",
       "22      JobRole_Laboratory Technician    0.007970\n",
       "18               EducationField_Other    0.006140\n",
       "17             EducationField_Medical    0.003327\n",
       "16           EducationField_Marketing    0.003160\n",
       "21            JobRole_Human Resources    0.000000\n",
       "23                    JobRole_Manager    0.000000\n",
       "25          JobRole_Research Director    0.000000\n",
       "13  Department_Research & Development    0.000000\n",
       "9                   PerformanceRating    0.000000"
      ]
     },
     "execution_count": 27,
     "metadata": {},
     "output_type": "execute_result"
    }
   ],
   "source": [
    "\n",
    "# create a dataframe that stores the feature names and their importance\n",
    "important_features = pd.DataFrame({'Features': X_train.columns, \n",
    "                                   'Importance': decision_tree_full.feature_importances_})\n",
    "\n",
    "# print the dataframe\n",
    "important_features.sort_values(by='Importance', ascending=False)"
   ]
  },
  {
   "cell_type": "markdown",
   "metadata": {
    "id": "6q2ClHs2DWHZ"
   },
   "source": [
    "Thus we can see that `Age`, `MonthlyIncome` and `DistanceFromHome` are the most import features when predicting whether or not an employee will leave the company."
   ]
  },
  {
   "cell_type": "markdown",
   "metadata": {
    "collapsed": true,
    "id": "GTBNEzz5DWHZ"
   },
   "source": [
    "<table align=\"left\">\n",
    "    <tr>\n",
    "        <td width=\"6%\">\n",
    "            <img src=\"question_icon.png\">\n",
    "        </td>\n",
    "        <td>\n",
    "            <div align=\"left\", style=\"font-size:120%\">\n",
    "                <font color=\"#21618C\">\n",
    "                    <b>4.  Find the area under the receiver operating characteristic curve for full model built in question 3. </b>\n",
    "                </font>\n",
    "            </div>\n",
    "        </td>\n",
    "    </tr>\n",
    "</table>"
   ]
  },
  {
   "cell_type": "code",
   "execution_count": null,
   "metadata": {
    "colab": {
     "base_uri": "https://localhost:8080/",
     "height": 265
    },
    "id": "RL7lg2EmDWHZ",
    "outputId": "d62ab188-c365-4b15-e804-71c4b9c11d3f"
   },
   "outputs": [
    {
     "data": {
      "image/png": "[encoded data removed]",
      "text/plain": [
       "<Figure size 432x288 with 1 Axes>"
      ]
     },
     "metadata": {
      "needs_background": "light"
     },
     "output_type": "display_data"
    }
   ],
   "source": [
    "# the roc_curve() returns the values for false positive rate, true positive rate and threshold\n",
    "# pass the actual target values and predicted probabilities to the function\n",
    "fpr, tpr, thresholds = roc_curve(y_test, y_pred_full)\n",
    "\n",
    "# plot the straight line showing worst prediction for the model\n",
    "plt.plot([0, 1], [0, 1],'r--')\n",
    "\n",
    "# plot the ROC curve\n",
    "plt.plot(fpr, tpr)\n",
    "\n",
    "# add the AUC score to the plot\n",
    "# 'x' and 'y' gives position of the text\n",
    "# 's' is the text \n",
    "# use round() to round-off the AUC score upto 4 digits\n",
    "plt.text(x = 0.02, y = 0.8, s = ('AUC Score:',round(metrics.roc_auc_score(y_test, y_pred_full),4)))\n",
    "                               \n",
    "# plot the grid\n",
    "plt.grid(True)"
   ]
  },
  {
   "cell_type": "markdown",
   "metadata": {
    "collapsed": true,
    "id": "uCAkmJCjDWHa"
   },
   "source": [
    "<table align=\"left\">\n",
    "    <tr>\n",
    "        <td width=\"6%\">\n",
    "            <img src=\"question_icon.png\">\n",
    "        </td>\n",
    "        <td>\n",
    "            <div align=\"left\", style=\"font-size:120%\">\n",
    "                <font color=\"#21618C\">\n",
    "                    <b>5. Plot a confusion matrix for the full model built in Q3.</b>\n",
    "                </font>\n",
    "            </div>\n",
    "        </td>\n",
    "    </tr>\n",
    "</table>"
   ]
  },
  {
   "cell_type": "code",
   "execution_count": null,
   "metadata": {
    "colab": {
     "base_uri": "https://localhost:8080/",
     "height": 265
    },
    "id": "mkjDjp3QDWHa",
    "outputId": "1a47875f-8a4f-4292-fb2b-fd8af6b16844"
   },
   "outputs": [
    {
     "data": {
      "image/png": "[encoded data removed]",
      "text/plain": [
       "<Figure size 432x288 with 1 Axes>"
      ]
     },
     "metadata": {
      "needs_background": "light"
     },
     "output_type": "display_data"
    }
   ],
   "source": [
    "# create a confusion matrix\n",
    "# pass the actual and predicted target values to the confusion_matrix()\n",
    "cm = confusion_matrix(y_test, y_pred_full)\n",
    "\n",
    "# label the confusion matrix  \n",
    "# pass the matrix as 'data'\n",
    "# pass the required column names to the parameter, 'columns'\n",
    "# pass the required row names to the parameter, 'index'\n",
    "conf_matrix = pd.DataFrame(data = cm,columns = ['Predicted Attrition: No','Predicted Attrition: Yes'], \n",
    "                           index = ['Actual Attrition :No','Actual Attrition :Yes'])\n",
    "\n",
    "# plot a heatmap to visualize the confusion matrix\n",
    "# 'annot' prints the value of each grid \n",
    "# 'fmt = d' returns the integer value in each grid\n",
    "# 'cmap' assigns color to each grid\n",
    "# as we do not require different colors for each grid in the heatmap,\n",
    "# use 'ListedColormap' to assign the specified color to the grid\n",
    "# 'cbar = False' will not return the color bar to the right side of the heatmap\n",
    "# 'linewidths' assigns the width to the line that divides each grid\n",
    "# 'annot_kws = {'size':25})' assigns the font size of the annotated text \n",
    "sns.heatmap(conf_matrix, annot = True, fmt = 'd', cmap = ListedColormap(['lightskyblue']), cbar = False, \n",
    "            linewidths = 0.1, annot_kws = {'size':25})\n",
    "\n",
    "# set the font size of x-axis ticks using 'fontsize'\n",
    "plt.xticks(fontsize = 10)\n",
    "\n",
    "# set the font size of y-axis ticks using 'fontsize'\n",
    "plt.yticks(fontsize = 10)\n",
    "\n",
    "# display the plot\n",
    "plt.show()"
   ]
  },
  {
   "cell_type": "code",
   "execution_count": null,
   "metadata": {
    "colab": {
     "base_uri": "https://localhost:8080/"
    },
    "id": "zecKxXcD1guJ",
    "outputId": "4209c151-81b7-4d3e-885c-69d269272381"
   },
   "outputs": [
    {
     "data": {
      "text/plain": [
       "0    245\n",
       "1    202\n",
       "Name: Attrition, dtype: int64"
      ]
     },
     "execution_count": 32,
     "metadata": {},
     "output_type": "execute_result"
    }
   ],
   "source": [
    "y_test.value_counts()"
   ]
  },
  {
   "cell_type": "code",
   "execution_count": null,
   "metadata": {
    "colab": {
     "base_uri": "https://localhost:8080/"
    },
    "id": "1hDNB3a21DBq",
    "outputId": "931e60a0-6274-4fb0-f3cf-d92821f04a25"
   },
   "outputs": [
    {
     "data": {
      "text/plain": [
       "0.9752475247524752"
      ]
     },
     "execution_count": 30,
     "metadata": {},
     "output_type": "execute_result"
    }
   ],
   "source": [
    "#sensitivity\n",
    "197/(202)"
   ]
  },
  {
   "cell_type": "code",
   "execution_count": null,
   "metadata": {
    "colab": {
     "base_uri": "https://localhost:8080/"
    },
    "id": "VFBmNDW91JLd",
    "outputId": "47163c0f-8e1b-4971-c5ae-f3b4d1e3e4f4"
   },
   "outputs": [
    {
     "data": {
      "text/plain": [
       "0.8408163265306122"
      ]
     },
     "execution_count": 31,
     "metadata": {},
     "output_type": "execute_result"
    }
   ],
   "source": [
    "#specificity\n",
    "206/245"
   ]
  },
  {
   "cell_type": "code",
   "execution_count": null,
   "metadata": {
    "colab": {
     "base_uri": "https://localhost:8080/"
    },
    "id": "S2eSP8Qh1ZQl",
    "outputId": "fdf871b9-d1e8-4402-b1a8-9449f727a54b"
   },
   "outputs": [
    {
     "data": {
      "text/plain": [
       "0.09843400447427293"
      ]
     },
     "execution_count": 33,
     "metadata": {},
     "output_type": "execute_result"
    }
   ],
   "source": [
    "44/(447)"
   ]
  },
  {
   "cell_type": "markdown",
   "metadata": {
    "collapsed": true,
    "id": "Gl_BGfj_DWHa"
   },
   "source": [
    "<table align=\"left\">\n",
    "    <tr>\n",
    "        <td width=\"6%\">\n",
    "            <img src=\"question_icon.png\">\n",
    "        </td>\n",
    "        <td>\n",
    "            <div align=\"left\", style=\"font-size:120%\">\n",
    "                <font color=\"#21618C\">\n",
    "                    <b>6. Calculate the specificity, sensitivity, % of misclassified and correctly classified observations. What can you say about the model by looking at the sensitivity and specificity values? Is this a good model?</b>\n",
    "                </font>\n",
    "            </div>\n",
    "        </td>\n",
    "    </tr>\n",
    "</table>"
   ]
  },
  {
   "cell_type": "code",
   "execution_count": null,
   "metadata": {
    "colab": {
     "base_uri": "https://localhost:8080/"
    },
    "id": "WWtVXpqVDWHb",
    "outputId": "773498f3-9efa-4a7a-8f50-07088a06a236"
   },
   "outputs": [
    {
     "name": "stdout",
     "output_type": "stream",
     "text": [
      "Percentage of correctly classified observations:  90.16\n",
      "Percentage of misclassified observations:  9.84\n",
      "\n",
      "Specificity:  0.8408\n",
      "Sensitivity:  0.9752\n"
     ]
    }
   ],
   "source": [
    "# True Negative from confusion matrix\n",
    "TN = cm[0][0]\n",
    "# True Positive from confusion matrix\n",
    "TP = cm[1][1]\n",
    "# False Positive from confusion matrix\n",
    "FP = cm[0][1]\n",
    "# False Negative from confusion matrix\n",
    "FN = cm[1][0]\n",
    "\n",
    "# add all the values of a confusion matrix\n",
    "total = TN + TP + FP + FN\n",
    "\n",
    "# find the percentage of correctly classified observations\n",
    "# round the result upto 2 decimal points\n",
    "correct_classified_percentage = ((TN+TP)/total)*100\n",
    "print(\"Percentage of correctly classified observations: \", round(correct_classified_percentage, 2))\n",
    "\n",
    "# find the percentage of  misclassified observations\n",
    "# round the result upto 2 decimal points\n",
    "misclassified_percentage = ((FP+FN)/total)*100\n",
    "print(\"Percentage of misclassified observations: \", round(misclassified_percentage, 2))\n",
    "\n",
    "# find the specificity\n",
    "# round the result upto 4 decimal points\n",
    "specificity = TN/(TN+FP)\n",
    "print(\"\\nSpecificity: \", round(specificity, 4))\n",
    "\n",
    "# find the sensitivity\n",
    "# round the result upto 4 decimal points\n",
    "sensitivity = TP/(TP+FN)\n",
    "print(\"Sensitivity: \", round(sensitivity, 4))"
   ]
  },
  {
   "cell_type": "markdown",
   "metadata": {
    "id": "mrUOh1-xDWHb"
   },
   "source": [
    "**Intrepretation:** The is a difference between the sensitivity and the specificity values. But we can say that the model performance is good. For a better model, the values of sensitivity and specificity should be balanced."
   ]
  },
  {
   "cell_type": "markdown",
   "metadata": {
    "collapsed": true,
    "id": "N4ZM0qjfDWHb"
   },
   "source": [
    "<table align=\"left\">\n",
    "    <tr>\n",
    "        <td width=\"6%\">\n",
    "            <img src=\"question_icon.png\">\n",
    "        </td>\n",
    "        <td>\n",
    "            <div align=\"left\", style=\"font-size:120%\">\n",
    "                <font color=\"#21618C\">\n",
    "                    <b>7. Build and plot a decision tree with maximum 5 terminal nodes.</b>\n",
    "                </font>\n",
    "            </div>\n",
    "        </td>\n",
    "    </tr>\n",
    "</table>"
   ]
  },
  {
   "cell_type": "code",
   "execution_count": null,
   "metadata": {
    "colab": {
     "base_uri": "https://localhost:8080/"
    },
    "id": "z_FsrrU5nvkf",
    "outputId": "b3ae6855-8cdc-4c05-9e28-e09392abde66"
   },
   "outputs": [
    {
     "data": {
      "text/plain": [
       "0    570\n",
       "1    470\n",
       "Name: Attrition, dtype: int64"
      ]
     },
     "execution_count": 44,
     "metadata": {},
     "output_type": "execute_result"
    }
   ],
   "source": [
    "y_train.value_counts()"
   ]
  },
  {
   "cell_type": "code",
   "execution_count": null,
   "metadata": {
    "id": "TFDNLggii604"
   },
   "outputs": [],
   "source": [
    "from sklearn import tree\n",
    "import pydotplus\n",
    "from IPython.display import Image  "
   ]
  },
  {
   "cell_type": "code",
   "execution_count": null,
   "metadata": {
    "colab": {
     "base_uri": "https://localhost:8080/",
     "height": 204
    },
    "id": "8EbrNhEqDWHb",
    "outputId": "fbd0e81b-c0ce-44a9-eade-9c615f6ec81a"
   },
   "outputs": [
    {
     "data": {
      "image/png": "[encoded data removed]",
      "text/plain": [
       "<IPython.core.display.Image object>"
      ]
     },
     "execution_count": 49,
     "metadata": {},
     "output_type": "execute_result"
    }
   ],
   "source": [
    "# instantiate the 'DecisionTreeClassifier' object using 'entropy' criterion\n",
    "# set 'max_leaf_nodes = 5' to build the tree with maximim 5 leaf/terminal nodes\n",
    "# pass the 'random_state' to obtain the same samples for each time you run the code\n",
    "decision_tree_classification = DecisionTreeClassifier(max_depth=4)\n",
    "\n",
    "# fit the model using fit() on train data\n",
    "dt_model = decision_tree_classification.fit(X_train, y_train)\n",
    "\n",
    "# plot a decision tree\n",
    "# save the column names in 'labels'\n",
    "labels = X_train.columns\n",
    "\n",
    "# export a decision tree in DOT format\n",
    "# pass the 'decision_tree' to export it to Graphviz\n",
    "# pass the column names to 'feature_names'\n",
    "# pass the required class labels to 'class_names'\n",
    "dot_data = tree.export_graphviz(dt_model, feature_names = labels, class_names = [\"No\",\"Yes\"])  \n",
    "\n",
    "# plot the decision tree using DOT format in 'dot_data'\n",
    "graph = pydotplus.graph_from_dot_data(dot_data)  \n",
    "\n",
    "# display the decision tree\n",
    "Image(graph.create_png())"
   ]
  },
  {
   "cell_type": "code",
   "execution_count": null,
   "metadata": {
    "id": "fwe_N18plW5N"
   },
   "outputs": [],
   "source": [
    "train_char_label = ['No', 'Yes']\n",
    "DT_Tree_File = open('/content/drive/My Drive/Python for ML-Mahesh Anand/Attr_tree.dot','w')\n",
    "dot_data = tree.export_graphviz(decision_tree_full, out_file=DT_Tree_File, feature_names = list(X_train), class_names = list(train_char_label))\n",
    "DT_Tree_File.close()"
   ]
  },
  {
   "cell_type": "markdown",
   "metadata": {
    "collapsed": true,
    "id": "6ndYy_RTDWHc"
   },
   "source": [
    "<table align=\"left\">\n",
    "    <tr>\n",
    "        <td width=\"6%\">\n",
    "            <img src=\"question_icon.png\">\n",
    "        </td>\n",
    "        <td>\n",
    "            <div align=\"left\", style=\"font-size:120%\">\n",
    "                <font color=\"#21618C\">\n",
    "                    <b>8. Build a Decision Tree model with the predefined parameters and find the average accuracy by performing the 10 fold cross validation.</b>\n",
    "                </font>\n",
    "            </div>\n",
    "        </td>\n",
    "    </tr>\n",
    "</table>"
   ]
  },
  {
   "cell_type": "markdown",
   "metadata": {
    "id": "dnexzpQdDWHc"
   },
   "source": [
    "#### Split the data into train and test set for upcoming questions"
   ]
  },
  {
   "cell_type": "code",
   "execution_count": null,
   "metadata": {
    "id": "MRCZp0c7DWHc"
   },
   "outputs": [],
   "source": [
    "# split data into train subset and test subset\n",
    "# set 'random_state' to generate the same dataset each time you run the code \n",
    "# 'test_size' returns the proportion of data to be included in the test set\n",
    "X_train, X_test, y_train, y_test = train_test_split(X, df_target, random_state = 10, test_size = 0.3)"
   ]
  },
  {
   "cell_type": "code",
   "execution_count": null,
   "metadata": {
    "colab": {
     "base_uri": "https://localhost:8080/"
    },
    "id": "UKUi6SqWDWHc",
    "outputId": "a19901db-9592-4df6-db22-6bf97778fee5"
   },
   "outputs": [
    {
     "name": "stdout",
     "output_type": "stream",
     "text": [
      "Mean accuracy after 10 fold cross validation:  0.89\n"
     ]
    }
   ],
   "source": [
    "# instantiate the 'DecisionTreeClassifier'\n",
    "# pass the 'random_state' to obtain the same samples for each time you run the code\n",
    "decision_tree_model = DecisionTreeClassifier(random_state=10)\n",
    "\n",
    "# using cross_val_score() for k-fold cross validation\n",
    "# estimator: pass the machine learning function. Here we are performing Decision Tree Classification\n",
    "# pass the X_train and y_train sets\n",
    "# cv: stands for number of folds. Similar to k in KFold\n",
    "# scoring: pass the scoring parameter e.g. 'accuracy' for accuracy\n",
    "scores = cross_val_score(estimator = decision_tree_model, \n",
    "                         X = X_train, \n",
    "                         y = y_train, \n",
    "                         cv = 10, \n",
    "                         scoring = 'roc_auc')\n",
    "\n",
    "# get the average of the accuracy obtained after 10 fold cross validation\n",
    "# round the result upto 2 decimal points\n",
    "print(\"Mean accuracy after 10 fold cross validation: \", round(scores.mean(), 2))"
   ]
  },
  {
   "cell_type": "code",
   "execution_count": null,
   "metadata": {
    "colab": {
     "base_uri": "https://localhost:8080/"
    },
    "id": "YcRs2ZbFZG9p",
    "outputId": "928a1d7d-5d38-4fe9-a769-bb03f6cd2c0f"
   },
   "outputs": [
    {
     "data": {
      "text/plain": [
       "0.028720352768094003"
      ]
     },
     "execution_count": 29,
     "metadata": {},
     "output_type": "execute_result"
    }
   ],
   "source": [
    "np.std(scores,ddof=1)"
   ]
  },
  {
   "cell_type": "markdown",
   "metadata": {
    "collapsed": true,
    "id": "0fR1bTFCDWHc"
   },
   "source": [
    "<table align=\"left\">\n",
    "    <tr>\n",
    "        <td width=\"6%\">\n",
    "            <img src=\"question_icon.png\">\n",
    "        </td>\n",
    "        <td>\n",
    "            <div align=\"left\", style=\"font-size:120%\">\n",
    "                <font color=\"#21618C\">\n",
    "                    <b>9. For a decision tree model, find the best value of hyperparameters \"criterion\", \"max_depth\", and \"min_samples_split\".</b>\n",
    "                </font>\n",
    "            </div>\n",
    "        </td>\n",
    "    </tr>\n",
    "</table>"
   ]
  },
  {
   "cell_type": "markdown",
   "metadata": {
    "id": "L6BzOGP2DWHd"
   },
   "source": [
    "Consider the values as:\n",
    "        \n",
    "     criterion = ['entropy', 'gini'],\n",
    "     max_depth = range(2, 10),\n",
    "     min_samples_split = range(2,10)"
   ]
  },
  {
   "cell_type": "code",
   "execution_count": null,
   "metadata": {
    "colab": {
     "base_uri": "https://localhost:8080/"
    },
    "id": "nGCnWiMgDWHd",
    "outputId": "f3ea8828-f551-46f2-c036-356fb861f0d0"
   },
   "outputs": [
    {
     "name": "stdout",
     "output_type": "stream",
     "text": [
      "Best parameters for Decision Tree Classifier:  {'criterion': 'gini', 'max_depth': 9, 'min_samples_split': 2} \n",
      "\n"
     ]
    }
   ],
   "source": [
    "# create a dictionary with hyperparameters and its values\n",
    "# pass the criteria 'entropy' and 'gini' to the parameter, 'criterion' \n",
    "# pass the range of values to 'max_depth' that assigns maximum depth of the tree\n",
    "# pass the range of values to 'min_samples_split' that assigns minimum number of samples to split an internal node\n",
    "hyp_paramaters = [{'criterion': ['entropy', 'gini'],\n",
    "                     'max_depth': range(2, 10),\n",
    "                     'min_samples_split': range(2,10)}]\n",
    " \n",
    "# instantiate the 'DecisionTreeClassifier' \n",
    "# pass the 'random_state' to obtain the same samples for each time you run the code\n",
    "decision_tree_model = DecisionTreeClassifier(random_state = 10)\n",
    "\n",
    "# use GridSearchCV() to find the optimal value of the hyperparameters\n",
    "# estimator: pass the decision tree classifier model\n",
    "# param_grid: pass the list 'tuned_parameters'\n",
    "# cv: number of folds in k-fold i.e. here cv = 5\n",
    "tree_grid = GridSearchCV(estimator = decision_tree_model, \n",
    "                         param_grid = hyp_paramaters, \n",
    "                         cv = 5)\n",
    "\n",
    "# fit the model on X_train and y_train using fit()\n",
    "tree_grid.fit(X_train, y_train)\n",
    "\n",
    "# get the best parameters\n",
    "print('Best parameters for Decision Tree Classifier: ', tree_grid.best_params_, '\\n')"
   ]
  },
  {
   "cell_type": "markdown",
   "metadata": {
    "collapsed": true,
    "id": "n67fzkfXDWHd"
   },
   "source": [
    "<table align=\"left\">\n",
    "    <tr>\n",
    "        <td width=\"6%\">\n",
    "            <img src=\"question_icon.png\">\n",
    "        </td>\n",
    "        <td>\n",
    "            <div align=\"left\", style=\"font-size:120%\">\n",
    "                <font color=\"#21618C\">\n",
    "                        <b>10. Build a decision tree model using the tuned hyperparameters, perform 10 fold cross validation and get the average ROC-AUC score.</b>\n",
    "                </font>\n",
    "            </div>\n",
    "        </td>\n",
    "    </tr>\n",
    "</table>"
   ]
  },
  {
   "cell_type": "code",
   "execution_count": null,
   "metadata": {
    "colab": {
     "base_uri": "https://localhost:8080/"
    },
    "id": "LlhnW9ylDWHd",
    "outputId": "47bd7353-825d-4c10-a6de-581674be3bbf"
   },
   "outputs": [
    {
     "name": "stdout",
     "output_type": "stream",
     "text": [
      "Mean ROC-AUC score after 10 fold cross validation:  0.87\n"
     ]
    }
   ],
   "source": [
    "# instantiate the 'DecisionTreeClassifier' object using 'gini' criterion\n",
    "# pass the 'random_state' to obtain the same samples for each time you run the code\n",
    "decision_tree_tuned_model = DecisionTreeClassifier(criterion = tree_grid.best_params_['criterion'], \n",
    "                                                   max_depth = tree_grid.best_params_['max_depth'], \n",
    "                                                   min_samples_split = tree_grid.best_params_['min_samples_split'])\n",
    "\n",
    "# using cross_val_score() for k-fold cross validation\n",
    "# estimator: pass the machine learning function. Here we are performing Decision Tree Classification\n",
    "# pass the X_train and y_train sets\n",
    "# cv: stands for number of folds. Similar to k in KFold\n",
    "# scoring: pass the scoring parameter e.g. 'accuracy' for accuracy\n",
    "scores = cross_val_score(estimator = decision_tree_tuned_model, \n",
    "                         X = X_train, \n",
    "                         y = y_train, \n",
    "                         cv = 10, \n",
    "                         scoring = 'roc_auc')\n",
    "\n",
    "# get the average of the ROC-AUC scores obtained after 10 fold cross validation\n",
    "# round the result upto 2 decimal points\n",
    "print(\"Mean ROC-AUC score after 10 fold cross validation: \", round(scores.mean(), 2))"
   ]
  },
  {
   "cell_type": "code",
   "execution_count": null,
   "metadata": {
    "colab": {
     "base_uri": "https://localhost:8080/"
    },
    "id": "LBW_vS0VZWsh",
    "outputId": "bb0ba6b0-615f-463c-f999-57960bb79248"
   },
   "outputs": [
    {
     "data": {
      "text/plain": [
       "0.023231105590818115"
      ]
     },
     "execution_count": 31,
     "metadata": {},
     "output_type": "execute_result"
    }
   ],
   "source": [
    "np.std(scores,ddof=1)"
   ]
  },
  {
   "cell_type": "code",
   "execution_count": null,
   "metadata": {
    "colab": {
     "base_uri": "https://localhost:8080/"
    },
    "id": "Mx4HFsYsawHo",
    "outputId": "afa8761d-e352-454d-f4e6-9c8383cd96a9"
   },
   "outputs": [
    {
     "data": {
      "text/plain": [
       "0.02247191011235957"
      ]
     },
     "execution_count": 32,
     "metadata": {},
     "output_type": "execute_result"
    }
   ],
   "source": [
    "(.89-.87)/.89"
   ]
  },
  {
   "cell_type": "code",
   "execution_count": null,
   "metadata": {
    "colab": {
     "base_uri": "https://localhost:8080/"
    },
    "id": "SIzF0yo5a3vz",
    "outputId": "7735c0ff-3b5c-4c94-b60f-024842e01671"
   },
   "outputs": [
    {
     "data": {
      "text/plain": [
       "0.19115598885793866"
      ]
     },
     "execution_count": 33,
     "metadata": {},
     "output_type": "execute_result"
    }
   ],
   "source": [
    "(0.02872-0.02323)/0.02872"
   ]
  },
  {
   "cell_type": "code",
   "execution_count": null,
   "metadata": {
    "colab": {
     "base_uri": "https://localhost:8080/"
    },
    "id": "J5tNowERLLMh",
    "outputId": "62f63221-371f-4f56-ab12-821fceea061d"
   },
   "outputs": [
    {
     "data": {
      "text/plain": [
       "Index(['Age', 'DistanceFromHome', 'EnvironmentSatisfaction', 'JobInvolvement',\n",
       "       'JobLevel', 'JobSatisfaction', 'MonthlyIncome', 'NumCompaniesWorked',\n",
       "       'PercentSalaryHike', 'PerformanceRating', 'YearsAtCompany',\n",
       "       'BusinessTravel_Travel_Frequently', 'BusinessTravel_Travel_Rarely',\n",
       "       'Department_Research & Development', 'Department_Sales',\n",
       "       'EducationField_Life Sciences', 'EducationField_Marketing',\n",
       "       'EducationField_Medical', 'EducationField_Other',\n",
       "       'EducationField_Technical Degree', 'Gender_Male',\n",
       "       'JobRole_Human Resources', 'JobRole_Laboratory Technician',\n",
       "       'JobRole_Manager', 'JobRole_Manufacturing Director',\n",
       "       'JobRole_Research Director', 'JobRole_Research Scientist',\n",
       "       'JobRole_Sales Executive', 'JobRole_Sales Representative',\n",
       "       'OverTime_Yes'],\n",
       "      dtype='object')"
      ]
     },
     "execution_count": 31,
     "metadata": {},
     "output_type": "execute_result"
    }
   ],
   "source": [
    "X_train.columns"
   ]
  },
  {
   "cell_type": "markdown",
   "metadata": {
    "collapsed": true,
    "id": "Fr78NFRvDWHd"
   },
   "source": [
    "<table align=\"left\">\n",
    "    <tr>\n",
    "        <td width=\"6%\">\n",
    "            <img src=\"question_icon.png\">\n",
    "        </td>\n",
    "        <td>\n",
    "            <div align=\"left\", style=\"font-size:120%\">\n",
    "                <font color=\"#21618C\">\n",
    "                    <b>11. Build 5 decision trees each with 20 random features. Also predict the attrition for test set for each model.</b>\n",
    "                </font>\n",
    "            </div>\n",
    "        </td>\n",
    "    </tr>\n",
    "</table>"
   ]
  },
  {
   "cell_type": "code",
   "execution_count": null,
   "metadata": {
    "colab": {
     "base_uri": "https://localhost:8080/"
    },
    "id": "vAsmEIMYHNth",
    "outputId": "2e7d0f25-0895-4fc1-dfe2-c12ba9386c89"
   },
   "outputs": [
    {
     "data": {
      "text/plain": [
       "['JobRole_Human Resources',\n",
       " 'PercentSalaryHike',\n",
       " 'BusinessTravel_Travel_Rarely',\n",
       " 'Department_Research & Development',\n",
       " 'EducationField_Life Sciences',\n",
       " 'JobRole_Manager',\n",
       " 'JobRole_Sales Representative',\n",
       " 'DistanceFromHome',\n",
       " 'Department_Sales',\n",
       " 'Department_Sales',\n",
       " 'DistanceFromHome',\n",
       " 'JobRole_Human Resources',\n",
       " 'JobRole_Human Resources',\n",
       " 'YearsAtCompany',\n",
       " 'EducationField_Technical Degree',\n",
       " 'JobRole_Sales Representative',\n",
       " 'JobRole_Manufacturing Director',\n",
       " 'EducationField_Marketing',\n",
       " 'EducationField_Other',\n",
       " 'EducationField_Marketing']"
      ]
     },
     "execution_count": 34,
     "metadata": {},
     "output_type": "execute_result"
    }
   ],
   "source": [
    "columns = list(X_train.columns)\n",
    "\n",
    "# select random features from the columns\n",
    "random.choices(columns, k=20)"
   ]
  },
  {
   "cell_type": "code",
   "execution_count": null,
   "metadata": {
    "id": "TQ-ZnvKnDWHe"
   },
   "outputs": [],
   "source": [
    "# get the columns from X_train\n",
    "columns = list(X_train.columns)\n",
    "\n",
    "# select random features from the columns\n",
    "sample_features = random.choices(columns, k=20)\n",
    "\n",
    "# Decision Tree Model 1\n",
    "# instantiate the 'DecisionTreeClassifier' \n",
    "# pass the 'random_state' to obtain the same samples for each time you run the code\n",
    "dt_model_1 = DecisionTreeClassifier(random_state = 10)\n",
    "\n",
    "# fit the model using fit() on train data\n",
    "dt_model_1 = dt_model_1.fit(X_train[sample_features], y_train)\n",
    "\n",
    "# predict the attrition for test set using dt_model_1\n",
    "y_pred_1 = dt_model_1.predict(X_test[sample_features])\n",
    "###################################################################################\n",
    "\n",
    "# select random features from the columns\n",
    "sample_features = random.choices(columns, k=20)\n",
    "\n",
    "# Decision Tree Model 2\n",
    "# instantiate the 'DecisionTreeClassifier' \n",
    "# pass the 'random_state' to obtain the same samples for each time you run the code\n",
    "dt_model_2 = DecisionTreeClassifier(random_state = 10)\n",
    "\n",
    "# fit the model using fit() on train data\n",
    "dt_model_2 = dt_model_2.fit(X_train[sample_features], y_train)\n",
    "\n",
    "# predict the attrition for test set using dt_model_2\n",
    "y_pred_2 = dt_model_2.predict(X_test[sample_features])\n",
    "###################################################################################\n",
    "\n",
    "# select random features from the columns\n",
    "sample_features = random.choices(columns, k=20)\n",
    "\n",
    "# Decision Tree Model 3\n",
    "# instantiate the 'DecisionTreeClassifier' \n",
    "# pass the 'random_state' to obtain the same samples for each time you run the code\n",
    "dt_model_3 = DecisionTreeClassifier(random_state = 10)\n",
    "\n",
    "# fit the model using fit() on train data\n",
    "dt_model_3 = dt_model_3.fit(X_train[sample_features], y_train)\n",
    "\n",
    "# predict the attrition for test set using dt_model_3\n",
    "y_pred_3 = dt_model_3.predict(X_test[sample_features])\n",
    "###################################################################################\n",
    "\n",
    "# select random features from the columns\n",
    "sample_features = random.choices(columns, k=20)\n",
    "\n",
    "# Decision Tree Model 4\n",
    "# instantiate the 'DecisionTreeClassifier' \n",
    "# pass the 'random_state' to obtain the same samples for each time you run the code\n",
    "dt_model_4 = DecisionTreeClassifier(random_state = 10)\n",
    "\n",
    "# fit the model using fit() on train data\n",
    "dt_model_4 = dt_model_4.fit(X_train[sample_features], y_train)\n",
    "\n",
    "# predict the attrition for test set using dt_model_4\n",
    "y_pred_4 = dt_model_4.predict(X_test[sample_features])\n",
    "###################################################################################\n",
    "\n",
    "# select random features from the columns\n",
    "sample_features = random.choices(columns, k=20)\n",
    "\n",
    "# Decision Tree Model 5\n",
    "# instantiate the 'DecisionTreeClassifier' \n",
    "# pass the 'random_state' to obtain the same samples for each time you run the code\n",
    "dt_model_5 = DecisionTreeClassifier(random_state = 10)\n",
    "\n",
    "# fit the model using fit() on train data\n",
    "dt_model_5 = dt_model_5.fit(X_train[sample_features], y_train)\n",
    "\n",
    "# predict the attrition for test set using dt_model_5\n",
    "y_pred_5 = dt_model_5.predict(X_test[sample_features])\n",
    "###################################################################################"
   ]
  },
  {
   "cell_type": "markdown",
   "metadata": {
    "collapsed": true,
    "id": "jsKHQYHkDWHe"
   },
   "source": [
    "<table align=\"left\">\n",
    "    <tr>\n",
    "        <td width=\"6%\">\n",
    "            <img src=\"question_icon.png\">\n",
    "        </td>\n",
    "        <td>\n",
    "            <div align=\"left\", style=\"font-size:120%\">\n",
    "                <font color=\"#21618C\">\n",
    "                    <b>12. Create a new dataframe \"model_predictions_df\" by appending each prediction made in question 8. There will be 5 columns in the dataframe for each prediction using the decision tree models built in above question.</b>\n",
    "                </font>\n",
    "            </div>\n",
    "        </td>\n",
    "    </tr>\n",
    "</table>"
   ]
  },
  {
   "cell_type": "code",
   "execution_count": null,
   "metadata": {
    "colab": {
     "base_uri": "https://localhost:8080/",
     "height": 206
    },
    "id": "pgcrtXd9DWHe",
    "outputId": "c0757a22-30f3-43d5-977e-e96ced388d72"
   },
   "outputs": [
    {
     "data": {
      "text/html": [
       "<div>\n",
       "<style scoped>\n",
       "    .dataframe tbody tr th:only-of-type {\n",
       "        vertical-align: middle;\n",
       "    }\n",
       "\n",
       "    .dataframe tbody tr th {\n",
       "        vertical-align: top;\n",
       "    }\n",
       "\n",
       "    .dataframe thead th {\n",
       "        text-align: right;\n",
       "    }\n",
       "</style>\n",
       "<table border=\"1\" class=\"dataframe\">\n",
       "  <thead>\n",
       "    <tr style=\"text-align: right;\">\n",
       "      <th></th>\n",
       "      <th>y_pred_1</th>\n",
       "      <th>y_pred_2</th>\n",
       "      <th>y_pred_3</th>\n",
       "      <th>y_pred_4</th>\n",
       "      <th>y_pred_5</th>\n",
       "    </tr>\n",
       "  </thead>\n",
       "  <tbody>\n",
       "    <tr>\n",
       "      <th>0</th>\n",
       "      <td>0</td>\n",
       "      <td>0</td>\n",
       "      <td>0</td>\n",
       "      <td>0</td>\n",
       "      <td>0</td>\n",
       "    </tr>\n",
       "    <tr>\n",
       "      <th>1</th>\n",
       "      <td>1</td>\n",
       "      <td>0</td>\n",
       "      <td>1</td>\n",
       "      <td>0</td>\n",
       "      <td>1</td>\n",
       "    </tr>\n",
       "    <tr>\n",
       "      <th>2</th>\n",
       "      <td>1</td>\n",
       "      <td>1</td>\n",
       "      <td>1</td>\n",
       "      <td>1</td>\n",
       "      <td>1</td>\n",
       "    </tr>\n",
       "    <tr>\n",
       "      <th>3</th>\n",
       "      <td>0</td>\n",
       "      <td>1</td>\n",
       "      <td>0</td>\n",
       "      <td>1</td>\n",
       "      <td>0</td>\n",
       "    </tr>\n",
       "    <tr>\n",
       "      <th>4</th>\n",
       "      <td>0</td>\n",
       "      <td>0</td>\n",
       "      <td>1</td>\n",
       "      <td>1</td>\n",
       "      <td>0</td>\n",
       "    </tr>\n",
       "  </tbody>\n",
       "</table>\n",
       "</div>"
      ],
      "text/plain": [
       "   y_pred_1  y_pred_2  y_pred_3  y_pred_4  y_pred_5\n",
       "0         0         0         0         0         0\n",
       "1         1         0         1         0         1\n",
       "2         1         1         1         1         1\n",
       "3         0         1         0         1         0\n",
       "4         0         0         1         1         0"
      ]
     },
     "execution_count": 36,
     "metadata": {},
     "output_type": "execute_result"
    }
   ],
   "source": [
    "# create a dataframe \"model_predictions_df\" using the predictions obtained from the decision tree models\n",
    "model_predictions_df = pd.DataFrame({\"y_pred_1\": y_pred_1, \n",
    "                                     \"y_pred_2\": y_pred_2,\n",
    "                                     \"y_pred_3\": y_pred_3,\n",
    "                                     \"y_pred_4\": y_pred_4,\n",
    "                                     \"y_pred_5\": y_pred_5})\n",
    "model_predictions_df.head()"
   ]
  },
  {
   "cell_type": "code",
   "execution_count": null,
   "metadata": {
    "colab": {
     "base_uri": "https://localhost:8080/"
    },
    "id": "8_qiO3IBL4fn",
    "outputId": "3dfcf554-646c-4649-8a4d-917937d09d24"
   },
   "outputs": [
    {
     "data": {
      "text/plain": [
       "0    3\n",
       "1    2\n",
       "Name: 3, dtype: int64"
      ]
     },
     "execution_count": 38,
     "metadata": {},
     "output_type": "execute_result"
    }
   ],
   "source": [
    "model_predictions_df.iloc[3].value_counts()"
   ]
  },
  {
   "cell_type": "markdown",
   "metadata": {
    "collapsed": true,
    "id": "wEi6LJi1DWHf"
   },
   "source": [
    "<table align=\"left\">\n",
    "    <tr>\n",
    "        <td width=\"6%\">\n",
    "            <img src=\"question_icon.png\">\n",
    "        </td>\n",
    "        <td>\n",
    "            <div align=\"left\", style=\"font-size:120%\">\n",
    "                <font color=\"#21618C\">\n",
    "                    <b>13. Create a new column \"Voted_Result\" in the dataframe \"model_predictions_df\" that contains the maximum occuring value (mode) of the 5 columns in the dataframe (row-wise).<br></b>\n",
    "                </font>\n",
    "            </div>\n",
    "        </td>\n",
    "    </tr>\n",
    "</table>"
   ]
  },
  {
   "cell_type": "code",
   "execution_count": null,
   "metadata": {
    "colab": {
     "base_uri": "https://localhost:8080/",
     "height": 206
    },
    "id": "qNoG9x3ODWHf",
    "outputId": "26f30007-a435-444b-976c-d08c884cfa79"
   },
   "outputs": [
    {
     "data": {
      "text/html": [
       "<div>\n",
       "<style scoped>\n",
       "    .dataframe tbody tr th:only-of-type {\n",
       "        vertical-align: middle;\n",
       "    }\n",
       "\n",
       "    .dataframe tbody tr th {\n",
       "        vertical-align: top;\n",
       "    }\n",
       "\n",
       "    .dataframe thead th {\n",
       "        text-align: right;\n",
       "    }\n",
       "</style>\n",
       "<table border=\"1\" class=\"dataframe\">\n",
       "  <thead>\n",
       "    <tr style=\"text-align: right;\">\n",
       "      <th></th>\n",
       "      <th>y_pred_1</th>\n",
       "      <th>y_pred_2</th>\n",
       "      <th>y_pred_3</th>\n",
       "      <th>y_pred_4</th>\n",
       "      <th>y_pred_5</th>\n",
       "      <th>Voted_Result</th>\n",
       "    </tr>\n",
       "  </thead>\n",
       "  <tbody>\n",
       "    <tr>\n",
       "      <th>0</th>\n",
       "      <td>0</td>\n",
       "      <td>0</td>\n",
       "      <td>0</td>\n",
       "      <td>0</td>\n",
       "      <td>0</td>\n",
       "      <td>0</td>\n",
       "    </tr>\n",
       "    <tr>\n",
       "      <th>1</th>\n",
       "      <td>1</td>\n",
       "      <td>0</td>\n",
       "      <td>1</td>\n",
       "      <td>0</td>\n",
       "      <td>1</td>\n",
       "      <td>1</td>\n",
       "    </tr>\n",
       "    <tr>\n",
       "      <th>2</th>\n",
       "      <td>1</td>\n",
       "      <td>1</td>\n",
       "      <td>1</td>\n",
       "      <td>1</td>\n",
       "      <td>1</td>\n",
       "      <td>1</td>\n",
       "    </tr>\n",
       "    <tr>\n",
       "      <th>3</th>\n",
       "      <td>0</td>\n",
       "      <td>1</td>\n",
       "      <td>0</td>\n",
       "      <td>1</td>\n",
       "      <td>0</td>\n",
       "      <td>0</td>\n",
       "    </tr>\n",
       "    <tr>\n",
       "      <th>4</th>\n",
       "      <td>0</td>\n",
       "      <td>0</td>\n",
       "      <td>1</td>\n",
       "      <td>1</td>\n",
       "      <td>0</td>\n",
       "      <td>0</td>\n",
       "    </tr>\n",
       "  </tbody>\n",
       "</table>\n",
       "</div>"
      ],
      "text/plain": [
       "   y_pred_1  y_pred_2  y_pred_3  y_pred_4  y_pred_5  Voted_Result\n",
       "0         0         0         0         0         0             0\n",
       "1         1         0         1         0         1             1\n",
       "2         1         1         1         1         1             1\n",
       "3         0         1         0         1         0             0\n",
       "4         0         0         1         1         0             0"
      ]
     },
     "execution_count": 39,
     "metadata": {},
     "output_type": "execute_result"
    }
   ],
   "source": [
    "# empty list to store the votes result \n",
    "votes = []\n",
    "\n",
    "# for loop to find the maximum occuring values from each row and append it to the list \"votes\"\n",
    "for i in range(model_predictions_df.shape[0]):\n",
    "    votes.append(model_predictions_df.iloc[i].value_counts().index[0])\n",
    "    \n",
    "# create a column \"Voted_Result\" and store the votes\n",
    "model_predictions_df['Voted_Result'] = votes\n",
    "\n",
    "model_predictions_df.head()"
   ]
  },
  {
   "cell_type": "markdown",
   "metadata": {
    "collapsed": true,
    "id": "et2uFnZADWHf"
   },
   "source": [
    "<table align=\"left\">\n",
    "    <tr>\n",
    "        <td width=\"6%\">\n",
    "            <img src=\"question_icon.png\">\n",
    "        </td>\n",
    "        <td>\n",
    "            <div align=\"left\", style=\"font-size:120%\">\n",
    "                <font color=\"#21618C\">\n",
    "                    <b>14. Consider the values of \"Voted_Result\" as our new predictions and store its values in a variable \"new_y_pred\" and find the accuracy and the roc-auc score using new_y_pred.</b>\n",
    "                </font>\n",
    "            </div>\n",
    "        </td>\n",
    "    </tr>\n",
    "</table>"
   ]
  },
  {
   "cell_type": "code",
   "execution_count": null,
   "metadata": {
    "colab": {
     "base_uri": "https://localhost:8080/"
    },
    "id": "Dizyow4ADWHf",
    "outputId": "46422d13-4d54-4278-af5b-8735ec894374"
   },
   "outputs": [
    {
     "name": "stdout",
     "output_type": "stream",
     "text": [
      "The ROC-AUC Score is:  0.9369064457466155\n",
      "The Accuracy is:  0.9351230425055929\n"
     ]
    }
   ],
   "source": [
    "# store the voted result in the variable y_pred_voted\n",
    "y_pred_voted = model_predictions_df['Voted_Result']\n",
    "\n",
    "# print the roc-auc score \n",
    "print(\"The ROC-AUC Score is: \", roc_auc_score(y_test, y_pred_voted))\n",
    "\n",
    "# print the accuracy\n",
    "print(\"The Accuracy is: \", accuracy_score(y_test, y_pred_voted))"
   ]
  },
  {
   "cell_type": "markdown",
   "metadata": {
    "id": "1JZxH3heDWHf"
   },
   "source": [
    "<a id=\"rf\"> </a>\n",
    "## 2. Random Forest"
   ]
  },
  {
   "cell_type": "markdown",
   "metadata": {
    "collapsed": true,
    "id": "ofLScrXnDWHg"
   },
   "source": [
    "<table align=\"left\">\n",
    "    <tr>\n",
    "        <td width=\"6%\">\n",
    "            <img src=\"question_icon.png\">\n",
    "        </td>\n",
    "        <td>\n",
    "            <div align=\"left\", style=\"font-size:120%\">\n",
    "                <font color=\"#21618C\">\n",
    "                    <b>15. Build a random forest full model to predict if an employee will leave the company or not and generate a classification report.</b>\n",
    "                </font>\n",
    "            </div>\n",
    "        </td>\n",
    "    </tr>\n",
    "</table>"
   ]
  },
  {
   "cell_type": "code",
   "execution_count": 1,
   "metadata": {
    "id": "rkNkagcsYFcl"
   },
   "outputs": [],
   "source": [
    "from sklearn.ensemble import RandomForestClassifier,BaggingClassifier"
   ]
  },
  {
   "cell_type": "code",
   "execution_count": 2,
   "metadata": {
    "id": "ikXYkyOvYN3S"
   },
   "outputs": [],
   "source": [
    "from sklearn.linear_model import LogisticRegression\n",
    "logreg=LogisticRegression() \n",
    "from "
   ]
  },
  {
   "cell_type": "code",
   "execution_count": 3,
   "metadata": {
    "id": "OF-4BeZqYYSg"
   },
   "outputs": [],
   "source": [
    "LR_bag=BaggingClassifier(base_estimator=logreg,n_estimators=10,random_state=0)"
   ]
  },
  {
   "cell_type": "code",
   "execution_count": 5,
   "metadata": {
    "id": "8LvjQl69rlEk"
   },
   "outputs": [
    {
     "ename": "NameError",
     "evalue": "name 'cross_val_score' is not defined",
     "output_type": "error",
     "traceback": [
      "\u001b[1;31m---------------------------------------------------------------------------\u001b[0m",
      "\u001b[1;31mNameError\u001b[0m                                 Traceback (most recent call last)",
      "\u001b[1;32m<ipython-input-5-68ebf695ca93>\u001b[0m in \u001b[0;36m<module>\u001b[1;34m\u001b[0m\n\u001b[1;32m----> 1\u001b[1;33m scores = cross_val_score(estimator = LR_bag, \n\u001b[0m\u001b[0;32m      2\u001b[0m                          \u001b[0mX\u001b[0m \u001b[1;33m=\u001b[0m \u001b[0mX_train\u001b[0m\u001b[1;33m,\u001b[0m\u001b[1;33m\u001b[0m\u001b[1;33m\u001b[0m\u001b[0m\n\u001b[0;32m      3\u001b[0m                          \u001b[0my\u001b[0m \u001b[1;33m=\u001b[0m \u001b[0my_train\u001b[0m\u001b[1;33m,\u001b[0m\u001b[1;33m\u001b[0m\u001b[1;33m\u001b[0m\u001b[0m\n\u001b[0;32m      4\u001b[0m                          \u001b[0mcv\u001b[0m \u001b[1;33m=\u001b[0m \u001b[1;36m10\u001b[0m\u001b[1;33m,\u001b[0m\u001b[1;33m\u001b[0m\u001b[1;33m\u001b[0m\u001b[0m\n\u001b[0;32m      5\u001b[0m                          scoring = 'roc_auc')\n",
      "\u001b[1;31mNameError\u001b[0m: name 'cross_val_score' is not defined"
     ]
    }
   ],
   "source": [
    "scores = cross_val_score(estimator = LR_bag, \n",
    "                         X = X_train, \n",
    "                         y = y_train, \n",
    "                         cv = 10, \n",
    "                         scoring = 'roc_auc')"
   ]
  },
  {
   "cell_type": "code",
   "execution_count": null,
   "metadata": {
    "id": "ta_IOgFRrpAT"
   },
   "outputs": [],
   "source": [
    "np.mean(sc)"
   ]
  },
  {
   "cell_type": "code",
   "execution_count": null,
   "metadata": {
    "colab": {
     "base_uri": "https://localhost:8080/"
    },
    "id": "r6nmE9J_DWHg",
    "outputId": "14ee18dd-2fc8-4f9d-a675-f81a5f18f27d"
   },
   "outputs": [
    {
     "name": "stdout",
     "output_type": "stream",
     "text": [
      "              precision    recall  f1-score   support\n",
      "\n",
      "           0       0.96      0.93      0.94       245\n",
      "           1       0.91      0.95      0.93       202\n",
      "\n",
      "    accuracy                           0.94       447\n",
      "   macro avg       0.94      0.94      0.94       447\n",
      "weighted avg       0.94      0.94      0.94       447\n",
      "\n"
     ]
    }
   ],
   "source": [
    "# instantiate the 'RandomForestClassifier'\n",
    "# pass the required number of trees in the random forest to the parameter, 'n_estimators'\n",
    "# pass the 'random_state' to obtain the same samples for each time you run the code\n",
    "rf_classification = RandomForestClassifier(n_estimators = 10,random_state = 10)\n",
    "\n",
    "# use fit() to fit the model on the train set\n",
    "rf_model = rf_classification.fit(X_train, y_train)\n",
    "\n",
    "# predict the attrition for test set\n",
    "y_pred = rf_model.predict(X_test)\n",
    "\n",
    "# generate a classification report\n",
    "print(classification_report(y_test, y_pred))"
   ]
  },
  {
   "cell_type": "code",
   "execution_count": null,
   "metadata": {
    "colab": {
     "base_uri": "https://localhost:8080/"
    },
    "id": "vk-XfrtNmPsa",
    "outputId": "e87ee0c3-bca2-47b6-ed2e-aa1445f33909"
   },
   "outputs": [
    {
     "data": {
      "text/plain": [
       "0.9274398868458273"
      ]
     },
     "execution_count": 47,
     "metadata": {},
     "output_type": "execute_result"
    }
   ],
   "source": [
    "roc_auc_score(y_test, y_pred)"
   ]
  },
  {
   "cell_type": "markdown",
   "metadata": {
    "collapsed": true,
    "id": "jSgQ9IYlDWHh"
   },
   "source": [
    "<table align=\"left\">\n",
    "    <tr>\n",
    "        <td width=\"6%\">\n",
    "            <img src=\"question_icon.png\">\n",
    "        </td>\n",
    "        <td>\n",
    "            <div align=\"left\", style=\"font-size:120%\">\n",
    "                <font color=\"#21618C\">\n",
    "                    <b>16. For a random forest model, find the best value of hyperparameters \"n_estimators\", \"criterion\", \"max_depth\", and \"min_samples_split\".</b>\n",
    "                </font>\n",
    "            </div>\n",
    "        </td>\n",
    "    </tr>\n",
    "</table>"
   ]
  },
  {
   "cell_type": "markdown",
   "metadata": {
    "id": "0z0tEu4pDWHh"
   },
   "source": [
    "Given list of values:\n",
    "\n",
    "    criterion = ['entropy', 'gini'],\n",
    "    n_estimators = [90, 100, 150, 200],\n",
    "    max_depth = [10, 15, 20],\n",
    "    min_samples_split = [2, 5, 8]"
   ]
  },
  {
   "cell_type": "code",
   "execution_count": null,
   "metadata": {
    "colab": {
     "base_uri": "https://localhost:8080/"
    },
    "id": "0l3oMJtLDWHh",
    "outputId": "2b94a277-bad9-4ba4-dcd6-27560e445d51"
   },
   "outputs": [
    {
     "name": "stdout",
     "output_type": "stream",
     "text": [
      "Best parameters for random forest Classifier:  {'criterion': 'gini', 'max_depth': 15, 'min_samples_split': 2, 'n_estimators': 90} \n",
      "\n"
     ]
    }
   ],
   "source": [
    "# create a dictionary with hyperparameters and its values\n",
    "# pass the criteria 'entropy' and 'gini' to the parameter, 'criterion' \n",
    "# pass a list of values to 'n_estimators' to build the different number of trees in the random forest\n",
    "# pass a list of values to 'max_depth' that assigns maximum depth of the tree\n",
    "# pass a list of values to 'min_samples_split' that assigns minimum number of samples to split an internal node\n",
    "hyp_paramaters = [{'criterion': ['entropy', 'gini'],\n",
    "                     'n_estimators': [90, 100, 150, 200],\n",
    "                     'max_depth': [10, 15, 20],\n",
    "                     'min_samples_split': [2, 5, 8]}]\n",
    " \n",
    "# instantiate the 'RandomForestClassifier' \n",
    "# pass the 'random_state' to obtain the same samples for each time you run the code\n",
    "random_forest_classification = RandomForestClassifier(random_state = 10)\n",
    "\n",
    "# use GridSearchCV() to find the optimal value of the hyperparameters\n",
    "# estimator: pass the random forest classifier model\n",
    "# param_grid: pass the list 'tuned_parameters'\n",
    "# cv: number of folds in k-fold i.e. here cv = 5\n",
    "rf_grid = GridSearchCV(estimator = random_forest_classification, \n",
    "                       param_grid = hyp_paramaters, \n",
    "                       cv = 5,scoring='roc_auc')\n",
    "\n",
    "# use fit() to fit the model on the train set\n",
    "rf_model = rf_grid.fit(X_train, y_train)\n",
    "\n",
    "# get the best parameters\n",
    "print('Best parameters for random forest Classifier: ', rf_model.best_params_, '\\n')"
   ]
  },
  {
   "cell_type": "markdown",
   "metadata": {
    "collapsed": true,
    "id": "1jiiCnhsDWHi"
   },
   "source": [
    "<table align=\"left\">\n",
    "    <tr>\n",
    "        <td width=\"6%\">\n",
    "            <img src=\"question_icon.png\">\n",
    "        </td>\n",
    "        <td>\n",
    "            <div align=\"left\", style=\"font-size:120%\">\n",
    "                <font color=\"#21618C\">\n",
    "                    <b>17. Build a random forest model using the tuned hyperparameters, perform 10 fold cross validation and get the average ROC-AUC score.</b>\n",
    "                </font>\n",
    "            </div>\n",
    "        </td>\n",
    "    </tr>\n",
    "</table>"
   ]
  },
  {
   "cell_type": "code",
   "execution_count": null,
   "metadata": {
    "colab": {
     "base_uri": "https://localhost:8080/"
    },
    "id": "HXJRSPy7DWHi",
    "outputId": "d5cc61aa-6505-438c-8be8-716a58ecf734"
   },
   "outputs": [
    {
     "name": "stdout",
     "output_type": "stream",
     "text": [
      "Mean ROC-AUC score after 10 fold cross validation:  0.99\n"
     ]
    }
   ],
   "source": [
    "# instantiate the 'RandomForestClassifier' \n",
    "# pass the 'random_state' to obtain the same samples for each time you run the code\n",
    "random_forest_tuned_model = RandomForestClassifier(criterion = rf_model.best_params_['criterion'], \n",
    "                                                   max_depth = rf_model.best_params_['max_depth'], \n",
    "                                                   min_samples_split = rf_model.best_params_['min_samples_split'], \n",
    "                                                   n_estimators = rf_model.best_params_['n_estimators'],\n",
    "                                                   random_state = 10)\n",
    "\n",
    "# using cross_val_score() for k-fold cross validation\n",
    "# estimator: pass the machine learning function. Here we are performing Decision Tree Classification\n",
    "# pass the X_train and y_train sets\n",
    "# cv: stands for number of folds. Similar to k in KFold\n",
    "# scoring: pass the scoring parameter e.g. 'accuracy' for accuracy\n",
    "scores = cross_val_score(estimator = random_forest_tuned_model, \n",
    "                         X = X_train, \n",
    "                         y = y_train, \n",
    "                         cv = 10, \n",
    "                         scoring = 'roc_auc')\n",
    "\n",
    "# get the average of the ROC-AUC scores obtained after 10 fold cross validation\n",
    "# round the result upto 2 decimal points\n",
    "print(\"Mean ROC-AUC score after 10 fold cross validation: \", round(scores.mean(), 2))"
   ]
  },
  {
   "cell_type": "code",
   "execution_count": null,
   "metadata": {
    "colab": {
     "base_uri": "https://localhost:8080/"
    },
    "id": "dEE2icKNblJC",
    "outputId": "c4c5468d-93de-4573-d8d9-d68397bfddf7"
   },
   "outputs": [
    {
     "name": "stdout",
     "output_type": "stream",
     "text": [
      "              precision    recall  f1-score   support\n",
      "\n",
      "           0       0.95      0.94      0.95       245\n",
      "           1       0.93      0.95      0.94       202\n",
      "\n",
      "    accuracy                           0.94       447\n",
      "   macro avg       0.94      0.94      0.94       447\n",
      "weighted avg       0.94      0.94      0.94       447\n",
      "\n"
     ]
    }
   ],
   "source": [
    "random_forest_tuned_model.fit(X_train,y_train)\n",
    "y_pred_tuned_model=random_forest_tuned_model.predict(X_test)\n",
    "print(classification_report(y_test, y_pred_tuned_model))"
   ]
  },
  {
   "cell_type": "markdown",
   "metadata": {
    "collapsed": true,
    "id": "q7YV4hpcDWHi"
   },
   "source": [
    "<table align=\"left\">\n",
    "    <tr>\n",
    "        <td width=\"6%\">\n",
    "            <img src=\"question_icon.png\">\n",
    "        </td>\n",
    "        <td>\n",
    "            <div align=\"left\", style=\"font-size:120%\">\n",
    "                <font color=\"#21618C\">\n",
    "                    <b>18. Using the tuned random forest model, find the features that impact the model prediction the most.</b>\n",
    "                </font>\n",
    "            </div>\n",
    "        </td>\n",
    "    </tr>\n",
    "</table>"
   ]
  },
  {
   "cell_type": "code",
   "execution_count": null,
   "metadata": {
    "colab": {
     "base_uri": "https://localhost:8080/",
     "height": 361
    },
    "id": "e0DGH-cPDWHj",
    "outputId": "d11b7f56-6b98-4948-eb34-e3a94ee2c49f"
   },
   "outputs": [
    {
     "data": {
      "image/png": "[encoded data removed]",
      "text/plain": [
       "<Figure size 1080x576 with 1 Axes>"
      ]
     },
     "metadata": {
      "needs_background": "light"
     },
     "output_type": "display_data"
    }
   ],
   "source": [
    "# instantiate the 'RandomForestClassifier' \n",
    "# pass the 'random_state' to obtain the same samples for each time you run the code\n",
    "random_forest_tuned_model = RandomForestClassifier(criterion = 'gini', max_depth = 20, \n",
    "                                                   min_samples_split = 2, n_estimators = 90,\n",
    "                                                   random_state = 10)\n",
    "\n",
    "# use fit() to fit the model on the train set\n",
    "random_forest_tuned_model = random_forest_tuned_model.fit(X_train, y_train)\n",
    "\n",
    "# create a dataframe that stores the feature names and their importance\n",
    "important_features = pd.DataFrame({'Features': X_train.columns, \n",
    "                                   'Importance': random_forest_tuned_model.feature_importances_})\n",
    "\n",
    "# sort the dataframe in the descending order according to the feature importance\n",
    "important_features = important_features.sort_values('Importance', ascending = False)\n",
    "\n",
    "# create a barplot to visualize the features based on their importance\n",
    "sns.barplot(x = 'Importance', y = 'Features', data = important_features)\n",
    "\n",
    "# add plot and axes labels\n",
    "# set text size using 'fontsize'\n",
    "plt.title('Feature Importance', fontsize = 15)\n",
    "plt.xlabel('Importance', fontsize = 15)\n",
    "plt.ylabel('Features', fontsize = 15)\n",
    "\n",
    "# display the plot\n",
    "plt.show()"
   ]
  },
  {
   "cell_type": "markdown",
   "metadata": {
    "id": "oQO4jjrODWHj"
   },
   "source": [
    "Thus we can see that `MonthlyIncome`, `Age` and `YearsAtCompany` are the most import features when predicting whether or not an employee will leave the company."
   ]
  },
  {
   "cell_type": "markdown",
   "metadata": {
    "collapsed": true,
    "id": "rdfzkwrdDWHj"
   },
   "source": [
    "<table align=\"left\">\n",
    "    <tr>\n",
    "        <td width=\"6%\">\n",
    "            <img src=\"question_icon.png\">\n",
    "        </td>\n",
    "        <td>\n",
    "            <div align=\"left\", style=\"font-size:120%\">\n",
    "                <font color=\"#21618C\">\n",
    "                    <b>19. Build a random forest model using the top 10 most important features.</b>\n",
    "                </font>\n",
    "            </div>\n",
    "        </td>\n",
    "    </tr>\n",
    "</table>"
   ]
  },
  {
   "cell_type": "code",
   "execution_count": null,
   "metadata": {
    "id": "RBdIjtX-DWHk"
   },
   "outputs": [],
   "source": [
    "# get the top 10 important columns from the dataframe 'important_features' by using iloc\n",
    "important_columns = list(important_features['Features'].iloc[:10])\n",
    "\n",
    "# instantiate the 'RandomForestClassifier' \n",
    "# pass the 'random_state' to obtain the same samples for each time you run the code\n",
    "random_forest_tuned_model = RandomForestClassifier(criterion = 'gini', max_depth = 20, \n",
    "                                                   min_samples_split = 2, n_estimators = 90,\n",
    "                                                   random_state = 10)\n",
    "\n",
    "# use fit() to fit the model on the train set\n",
    "random_forest_tuned_model = random_forest_tuned_model.fit(X_train[important_columns], y_train)\n",
    "\n",
    "# predict the attrition for test set\n",
    "y_pred = random_forest_tuned_model.predict(X_test[important_columns])"
   ]
  },
  {
   "cell_type": "markdown",
   "metadata": {
    "collapsed": true,
    "id": "Y07Yiuf4DWHk"
   },
   "source": [
    "<table align=\"left\">\n",
    "    <tr>\n",
    "        <td width=\"6%\">\n",
    "            <img src=\"question_icon.png\">\n",
    "        </td>\n",
    "        <td>\n",
    "            <div align=\"left\", style=\"font-size:120%\">\n",
    "                <font color=\"#21618C\">\n",
    "                    <b>20. Plot a confusion matrix and area under the receiver operating characteristic curve for the model built in question 19. </b>\n",
    "                </font>\n",
    "            </div>\n",
    "        </td>\n",
    "    </tr>\n",
    "</table>"
   ]
  },
  {
   "cell_type": "code",
   "execution_count": null,
   "metadata": {
    "colab": {
     "base_uri": "https://localhost:8080/",
     "height": 410
    },
    "id": "CBsulUObDWHk",
    "outputId": "cd936d4c-480f-4503-820d-059b5f86d9d5"
   },
   "outputs": [
    {
     "data": {
      "image/png": "[encoded data removed]",
      "text/plain": [
       "<Figure size 1080x576 with 1 Axes>"
      ]
     },
     "metadata": {
      "needs_background": "light"
     },
     "output_type": "display_data"
    }
   ],
   "source": [
    "# create a confusion matrix\n",
    "# pass the actual and predicted target values to the confusion_matrix()\n",
    "cm = confusion_matrix(y_test, y_pred)\n",
    "\n",
    "# label the confusion matrix  \n",
    "# pass the matrix as 'data'\n",
    "# pass the required column names to the parameter, 'columns'\n",
    "# pass the required row names to the parameter, 'index'\n",
    "conf_matrix = pd.DataFrame(data = cm,columns = ['Predicted Attrition: No','Predicted Attrition: Yes'], \n",
    "                           index = ['Actual Attrition :No','Actual Attrition :Yes'])\n",
    "\n",
    "# plot a heatmap to visualize the confusion matrix\n",
    "# 'annot' prints the value of each grid \n",
    "# 'fmt = d' returns the integer value in each grid\n",
    "# 'cmap' assigns color to each grid\n",
    "# as we do not require different colors for each grid in the heatmap,\n",
    "# use 'ListedColormap' to assign the specified color to the grid\n",
    "# 'cbar = False' will not return the color bar to the right side of the heatmap\n",
    "# 'linewidths' assigns the width to the line that divides each grid\n",
    "# 'annot_kws = {'size':25})' assigns the font size of the annotated text \n",
    "sns.heatmap(conf_matrix, annot = True, fmt = 'd', cmap = ListedColormap(['lightskyblue']), cbar = False, \n",
    "            linewidths = 0.1, annot_kws = {'size':25})\n",
    "\n",
    "# set the font size of x-axis ticks using 'fontsize'\n",
    "plt.xticks(fontsize = 10)\n",
    "\n",
    "# set the font size of y-axis ticks using 'fontsize'\n",
    "plt.yticks(fontsize = 10)\n",
    "\n",
    "# display the plot\n",
    "plt.show()"
   ]
  },
  {
   "cell_type": "code",
   "execution_count": null,
   "metadata": {
    "colab": {
     "base_uri": "https://localhost:8080/"
    },
    "id": "plgkg6B9d-oJ",
    "outputId": "2f96fd79-b49d-42e8-b120-0c9c51a52c22"
   },
   "outputs": [
    {
     "data": {
      "text/plain": [
       "0.9095238095238095"
      ]
     },
     "execution_count": 27,
     "metadata": {},
     "output_type": "execute_result"
    }
   ],
   "source": [
    "191/210"
   ]
  },
  {
   "cell_type": "code",
   "execution_count": null,
   "metadata": {
    "colab": {
     "base_uri": "https://localhost:8080/"
    },
    "id": "41cVVlOUeBMY",
    "outputId": "e3c746f1-2394-46f3-a820-c53163d21198"
   },
   "outputs": [
    {
     "data": {
      "text/plain": [
       "0.9020408163265307"
      ]
     },
     "execution_count": 28,
     "metadata": {},
     "output_type": "execute_result"
    }
   ],
   "source": [
    "221/245"
   ]
  },
  {
   "cell_type": "code",
   "execution_count": null,
   "metadata": {
    "colab": {
     "base_uri": "https://localhost:8080/"
    },
    "id": "HSCyXCDedzyD",
    "outputId": "02c4804c-331c-4b3c-c5f2-6eff2b89fca7"
   },
   "outputs": [
    {
     "data": {
      "text/plain": [
       "No     245\n",
       "Yes    202\n",
       "Name: Attrition, dtype: int64"
      ]
     },
     "execution_count": 26,
     "metadata": {},
     "output_type": "execute_result"
    }
   ],
   "source": [
    "y_test.value_counts()"
   ]
  },
  {
   "cell_type": "code",
   "execution_count": null,
   "metadata": {
    "colab": {
     "base_uri": "https://localhost:8080/",
     "height": 407
    },
    "id": "0ndq2UdFDWHl",
    "outputId": "4729889f-1477-4f9e-ebf9-d8dd5153837f"
   },
   "outputs": [
    {
     "data": {
      "image/png": "[encoded data removed]",
      "text/plain": [
       "<Figure size 1080x576 with 1 Axes>"
      ]
     },
     "metadata": {
      "needs_background": "light"
     },
     "output_type": "display_data"
    }
   ],
   "source": [
    "# the roc_curve() returns the values for false positive rate, true positive rate and threshold\n",
    "# pass the actual target values and predicted probabilities to the function\n",
    "fpr, tpr, thresholds = roc_curve(y_test, y_pred)\n",
    "\n",
    "# plot the straight line showing worst prediction for the model\n",
    "plt.plot([0, 1], [0, 1],'r--')\n",
    "\n",
    "# plot the ROC curve\n",
    "plt.plot(fpr, tpr)\n",
    "\n",
    "# add the AUC score to the plot\n",
    "# 'x' and 'y' gives position of the text\n",
    "# 's' is the text \n",
    "# use round() to round-off the AUC score upto 4 digits\n",
    "plt.text(x = 0.02, y = 0.8, s = ('AUC Score:',round(metrics.roc_auc_score(y_test, y_pred),4)))\n",
    "                               \n",
    "# plot the grid\n",
    "plt.grid(True)"
   ]
  }
 ],
 "metadata": {
  "accelerator": "GPU",
  "colab": {
   "collapsed_sections": [],
   "name": "SLC - In-Class Lab Exercise_Day3_DT_RF.ipynb",
   "provenance": []
  },
  "kernelspec": {
   "display_name": "Python 3",
   "language": "python",
   "name": "python3"
  },
  "language_info": {
   "codemirror_mode": {
    "name": "ipython",
    "version": 3
   },
   "file_extension": ".py",
   "mimetype": "text/x-python",
   "name": "python",
   "nbconvert_exporter": "python",
   "pygments_lexer": "ipython3",
   "version": "3.7.4"
  }
 },
 "nbformat": 4,
 "nbformat_minor": 1
}
