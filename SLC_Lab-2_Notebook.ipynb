{
 "cells": [
  {
   "cell_type": "markdown",
   "metadata": {},
   "source": [
    "<table align=\"center\" width=100%>\n",
    "    <tr>\n",
    "        <td width=\"15%\">\n",
    "            <img src=\"homework.png\">\n",
    "        </td>\n",
    "        <td>\n",
    "            <div align=\"center\">\n",
    "                <font color=\"#21618C\" size=8px>\n",
    "                    <b> Take-Home <br>(Day 2)\n",
    "                    </b>\n",
    "                </font>\n",
    "            </div>\n",
    "        </td>\n",
    "    </tr>\n",
    "</table>"
   ]
  },
  {
   "cell_type": "markdown",
   "metadata": {},
   "source": [
    "#### Import the required libraries"
   ]
  },
  {
   "cell_type": "code",
   "execution_count": 1,
   "metadata": {},
   "outputs": [],
   "source": [
    "# import 'Pandas' \n",
    "import pandas as pd \n",
    "\n",
    "# import 'Numpy' \n",
    "import numpy as np\n",
    "\n",
    "# import subpackage of Matplotlib\n",
    "import matplotlib.pyplot as plt\n",
    "from matplotlib.colors import ListedColormap\n",
    "\n",
    "# import 'Seaborn' \n",
    "import seaborn as sns\n",
    "\n",
    "# to suppress warnings \n",
    "from warnings import filterwarnings\n",
    "filterwarnings('ignore')\n",
    "\n",
    "# display all columns of the dataframe\n",
    "pd.options.display.max_columns = None\n",
    "\n",
    "# display all rows of the dataframe\n",
    "pd.options.display.max_rows = None\n",
    " \n",
    "# to display the float values upto 6 decimal places     \n",
    "pd.options.display.float_format = '{:.6f}'.format\n",
    "\n",
    "# import train-test split \n",
    "from sklearn.model_selection import train_test_split,cross_val_score,GridSearchCV\n",
    "\n",
    "# import various functions from statsmodels\n",
    "import statsmodels\n",
    "import statsmodels.api as sm\n",
    "from statsmodels.stats.outliers_influence import variance_inflation_factor\n",
    "\n",
    "# import StandardScaler to perform scaling\n",
    "from sklearn.preprocessing import StandardScaler \n",
    "\n",
    "# import various functions from sklearn \n",
    "from sklearn import metrics\n",
    "from sklearn.linear_model import LogisticRegression\n",
    "from sklearn.metrics import classification_report\n",
    "from sklearn.metrics import cohen_kappa_score\n",
    "from sklearn.metrics import confusion_matrix\n",
    "from sklearn.metrics import roc_curve,auc\n",
    "from sklearn.metrics import accuracy_score,precision_score,recall_score\n",
    "from sklearn.metrics import f1_score\n",
    "from sklearn.metrics import log_loss\n",
    "from sklearn.tree import DecisionTreeClassifier\n",
    "from sklearn.ensemble import RandomForestClassifier\n",
    "\n",
    "# import 'is_string_dtype' to check the string type \n",
    "from pandas.api.types import is_string_dtype\n",
    "\n",
    "# import function to perform feature selection\n",
    "from sklearn.feature_selection import RFE"
   ]
  },
  {
   "cell_type": "code",
   "execution_count": 2,
   "metadata": {},
   "outputs": [],
   "source": [
    "# import the functions for visualizing the decision tree\n",
    "#import pydotplus\n",
    "from IPython.display import Image  \n",
    "\n",
    "import random\n",
    "# set the plot size using 'rcParams'\n",
    "# once the plot size is set using 'rcParams', it sets the size of all the forthcoming plots in the file\n",
    "# pass width and height in inches to 'figure.figsize' \n",
    "plt.rcParams['figure.figsize'] = [15,8]\n",
    "from sklearn import tree"
   ]
  },
  {
   "cell_type": "markdown",
   "metadata": {},
   "source": [
    "#### Read the data\n",
    "\n",
    "Load the csv file and print the first five observations."
   ]
  },
  {
   "cell_type": "code",
   "execution_count": 3,
   "metadata": {},
   "outputs": [
    {
     "data": {
      "text/html": [
       "<div>\n",
       "<style scoped>\n",
       "    .dataframe tbody tr th:only-of-type {\n",
       "        vertical-align: middle;\n",
       "    }\n",
       "\n",
       "    .dataframe tbody tr th {\n",
       "        vertical-align: top;\n",
       "    }\n",
       "\n",
       "    .dataframe thead th {\n",
       "        text-align: right;\n",
       "    }\n",
       "</style>\n",
       "<table border=\"1\" class=\"dataframe\">\n",
       "  <thead>\n",
       "    <tr style=\"text-align: right;\">\n",
       "      <th></th>\n",
       "      <th>Area</th>\n",
       "      <th>Perimeter</th>\n",
       "      <th>Kernel_len</th>\n",
       "      <th>Kernel_width</th>\n",
       "      <th>Kernelgroove_len</th>\n",
       "      <th>Type</th>\n",
       "    </tr>\n",
       "  </thead>\n",
       "  <tbody>\n",
       "    <tr>\n",
       "      <td>0</td>\n",
       "      <td>12.760000</td>\n",
       "      <td>13.380000</td>\n",
       "      <td>5.073000</td>\n",
       "      <td>3.155000</td>\n",
       "      <td>4.830000</td>\n",
       "      <td>0</td>\n",
       "    </tr>\n",
       "    <tr>\n",
       "      <td>1</td>\n",
       "      <td>12.130000</td>\n",
       "      <td>13.730000</td>\n",
       "      <td>5.394000</td>\n",
       "      <td>3.745000</td>\n",
       "      <td>5.220000</td>\n",
       "      <td>0</td>\n",
       "    </tr>\n",
       "    <tr>\n",
       "      <td>2</td>\n",
       "      <td>14.860000</td>\n",
       "      <td>14.670000</td>\n",
       "      <td>5.678000</td>\n",
       "      <td>3.258000</td>\n",
       "      <td>5.351000</td>\n",
       "      <td>0</td>\n",
       "    </tr>\n",
       "    <tr>\n",
       "      <td>3</td>\n",
       "      <td>15.690000</td>\n",
       "      <td>14.750000</td>\n",
       "      <td>5.527000</td>\n",
       "      <td>3.514000</td>\n",
       "      <td>5.046000</td>\n",
       "      <td>0</td>\n",
       "    </tr>\n",
       "    <tr>\n",
       "      <td>4</td>\n",
       "      <td>19.940000</td>\n",
       "      <td>16.920000</td>\n",
       "      <td>6.675000</td>\n",
       "      <td>3.763000</td>\n",
       "      <td>6.550000</td>\n",
       "      <td>1</td>\n",
       "    </tr>\n",
       "  </tbody>\n",
       "</table>\n",
       "</div>"
      ],
      "text/plain": [
       "       Area  Perimeter  Kernel_len  Kernel_width  Kernelgroove_len  Type\n",
       "0 12.760000  13.380000    5.073000      3.155000          4.830000     0\n",
       "1 12.130000  13.730000    5.394000      3.745000          5.220000     0\n",
       "2 14.860000  14.670000    5.678000      3.258000          5.351000     0\n",
       "3 15.690000  14.750000    5.527000      3.514000          5.046000     0\n",
       "4 19.940000  16.920000    6.675000      3.763000          6.550000     1"
      ]
     },
     "execution_count": 3,
     "metadata": {},
     "output_type": "execute_result"
    }
   ],
   "source": [
    "df=pd.read_csv('seeds_dataset.csv')\n",
    "df.head()"
   ]
  },
  {
   "cell_type": "markdown",
   "metadata": {},
   "source": [
    "**The data definition is as follows:** <br>\n",
    "\n",
    "**Area**: Area of the wheat kernel \n",
    "\n",
    "**Perimeter**: Perimeter of the wheat kernel\n",
    "\n",
    "**Kernel_len**: Length of the wheat kernel\n",
    "\n",
    "**Kernel_width**: Width of the wheat kernel\n",
    "\n",
    "**Kernelgroove_len**: Length of the wheat kernel groove\n",
    "\n",
    "**Type**: Type of the wheat seed (0 = Kama Wheat, 1 = Rosa Wheat) (target/dependent variable)"
   ]
  },
  {
   "cell_type": "markdown",
   "metadata": {},
   "source": [
    "Our objective is to predict whether the wheat seed is of Kama or Rosa type."
   ]
  },
  {
   "cell_type": "code",
   "execution_count": 4,
   "metadata": {},
   "outputs": [
    {
     "data": {
      "text/plain": [
       "Area                float64\n",
       "Perimeter           float64\n",
       "Kernel_len          float64\n",
       "Kernel_width        float64\n",
       "Kernelgroove_len    float64\n",
       "Type                  int64\n",
       "dtype: object"
      ]
     },
     "execution_count": 4,
     "metadata": {},
     "output_type": "execute_result"
    }
   ],
   "source": [
    "df.dtypes"
   ]
  },
  {
   "cell_type": "code",
   "execution_count": 5,
   "metadata": {},
   "outputs": [
    {
     "data": {
      "text/plain": [
       "Area                0\n",
       "Perimeter           0\n",
       "Kernel_len          0\n",
       "Kernel_width        0\n",
       "Kernelgroove_len    0\n",
       "Type                0\n",
       "dtype: int64"
      ]
     },
     "execution_count": 5,
     "metadata": {},
     "output_type": "execute_result"
    }
   ],
   "source": [
    "df.isnull().sum()"
   ]
  },
  {
   "cell_type": "markdown",
   "metadata": {},
   "source": [
    "### Let's begin with some hands-on practice exercises"
   ]
  },
  {
   "cell_type": "markdown",
   "metadata": {},
   "source": [
    "<table align=\"left\">\n",
    "    <tr>\n",
    "        <td width=\"6%\">\n",
    "            <img src=\"question_icon.png\">\n",
    "        </td>\n",
    "        <td>\n",
    "            <div align=\"left\", style=\"font-size:120%\">\n",
    "                <font color=\"#21618C\">\n",
    "                    <b>1. Build a decision tree model using the gini criterion. And obtain the number of correctly predicted wheat seeds in the test set</b>\n",
    "                </font>\n",
    "            </div>\n",
    "        </td>\n",
    "    </tr>\n",
    "</table>"
   ]
  },
  {
   "cell_type": "markdown",
   "metadata": {},
   "source": [
    "#### Consider the train-test split in the ratio 70:30 with random state = 1."
   ]
  },
  {
   "cell_type": "code",
   "execution_count": 6,
   "metadata": {},
   "outputs": [],
   "source": [
    "X=df.drop('Type',axis=1)\n",
    "y=df['Type']\n",
    "X_train, X_test, y_train, y_test = train_test_split(X, y, random_state = 1, test_size = 0.3)\n",
    "\n",
    "dt = DecisionTreeClassifier(random_state=10,criterion='gini')\n",
    "\n",
    "dt_model1 = dt.fit(X_train, y_train)\n",
    "y_pred = dt_model1.predict(X_test)"
   ]
  },
  {
   "cell_type": "code",
   "execution_count": 7,
   "metadata": {},
   "outputs": [
    {
     "name": "stdout",
     "output_type": "stream",
     "text": [
      "the number of correctly predicted wheat seeds are 21\n"
     ]
    }
   ],
   "source": [
    "cm=confusion_matrix(y_test,y_pred)\n",
    "print(\"the number of correctly predicted wheat seeds are\",cm[1][1])"
   ]
  },
  {
   "cell_type": "markdown",
   "metadata": {},
   "source": [
    "<table align=\"left\">\n",
    "    <tr>\n",
    "        <td width=\"6%\">\n",
    "            <img src=\"question_icon.png\">\n",
    "        </td>\n",
    "        <td>\n",
    "            <div align=\"left\", style=\"font-size:120%\">\n",
    "                <font color=\"#21618C\">\n",
    "                    <b>2. Plot a decision tree for the model in the previous question and identify the seed type of the first observation in the test set</b>\n",
    "                </font>\n",
    "            </div>\n",
    "        </td>\n",
    "    </tr>\n",
    "</table>"
   ]
  },
  {
   "cell_type": "code",
   "execution_count": 8,
   "metadata": {},
   "outputs": [],
   "source": [
    "with open(\"seeds.dot\",\"w\") as f:\n",
    "    f = tree.export_graphviz(dt_model1,\n",
    "                            feature_names=X_train.columns,out_file=f)\n",
    "# Open the downloaded file \"seeds.dot\" in graphviz online to view the decision tree "
   ]
  },
  {
   "cell_type": "markdown",
   "metadata": {},
   "source": [
    "<table align=\"left\">\n",
    "    <tr>\n",
    "        <td width=\"6%\">\n",
    "            <img src=\"question_icon.png\">\n",
    "        </td>\n",
    "        <td>\n",
    "            <div align=\"left\", style=\"font-size:120%\">\n",
    "                <font color=\"#21618C\">\n",
    "                    <b>3. Select the optimal number for decision trees from the given list of values to build a random forest using entropy criterion\n",
    "                    </b>\n",
    "                </font>\n",
    "            </div>\n",
    "        </td>\n",
    "    </tr>\n",
    "</table>"
   ]
  },
  {
   "cell_type": "markdown",
   "metadata": {},
   "source": [
    "**Use the given list:**\n",
    "\n",
    "no_of_trees = [6, 8, 10, 12, 14, 16]"
   ]
  },
  {
   "cell_type": "code",
   "execution_count": 9,
   "metadata": {},
   "outputs": [
    {
     "name": "stdout",
     "output_type": "stream",
     "text": [
      "Best parameters for RandomForestClassifier:  {'n_estimators': 10}\n"
     ]
    }
   ],
   "source": [
    "tuned_paramaters = [{'n_estimators': [6, 8, 10, 12, 14, 16]}]\n",
    "\n",
    "rf=RandomForestClassifier()\n",
    "rf_grid = GridSearchCV(estimator = rf, \n",
    "                       param_grid = tuned_paramaters, \n",
    "                       cv = 5,scoring='accuracy')\n",
    "rf_grid_model = rf_grid.fit(X_train, y_train)\n",
    "print('Best parameters for RandomForestClassifier: ', rf_grid_model.best_params_)"
   ]
  },
  {
   "cell_type": "code",
   "execution_count": 10,
   "metadata": {},
   "outputs": [],
   "source": [
    "rf=RandomForestClassifier(criterion='entropy',n_estimators=10,random_state=10)\n",
    "rf_model=rf.fit(X_train, y_train)"
   ]
  },
  {
   "cell_type": "markdown",
   "metadata": {},
   "source": [
    "<table align=\"left\">\n",
    "    <tr>\n",
    "        <td width=\"6%\">\n",
    "            <img src=\"question_icon.png\">\n",
    "        </td>\n",
    "        <td>\n",
    "            <div align=\"left\", style=\"font-size:120%\">\n",
    "                <font color=\"#21618C\">\n",
    "                    <b>4. Identify the most important variable in the random forest build with the optimal number of trees obtained in Q3\n",
    "                    </b>\n",
    "                </font>\n",
    "            </div>\n",
    "        </td>\n",
    "    </tr>\n",
    "</table>"
   ]
  },
  {
   "cell_type": "code",
   "execution_count": 11,
   "metadata": {},
   "outputs": [
    {
     "data": {
      "text/plain": [
       "array([0.13749165, 0.38516117, 0.08064404, 0.03712621, 0.35957693])"
      ]
     },
     "execution_count": 11,
     "metadata": {},
     "output_type": "execute_result"
    }
   ],
   "source": [
    "rf_model.feature_importances_"
   ]
  },
  {
   "cell_type": "code",
   "execution_count": 12,
   "metadata": {},
   "outputs": [
    {
     "data": {
      "text/plain": [
       "Index(['Area', 'Perimeter', 'Kernel_len', 'Kernel_width', 'Kernelgroove_len'], dtype='object')"
      ]
     },
     "execution_count": 12,
     "metadata": {},
     "output_type": "execute_result"
    }
   ],
   "source": [
    "X_train.columns"
   ]
  },
  {
   "cell_type": "markdown",
   "metadata": {},
   "source": [
    "Perimeter is the most important variable."
   ]
  },
  {
   "cell_type": "markdown",
   "metadata": {},
   "source": [
    "<table align=\"left\">\n",
    "    <tr>\n",
    "        <td width=\"6%\">\n",
    "            <img src=\"question_icon.png\">\n",
    "        </td>\n",
    "        <td>\n",
    "            <div align=\"left\", style=\"font-size:120%\">\n",
    "                <font color=\"#21618C\">\n",
    "                    <b>5. Which is the best criterion to build a decision tree for the given dataset?\n",
    "                    </b>\n",
    "                </font>\n",
    "            </div>\n",
    "        </td>\n",
    "    </tr>\n",
    "</table>"
   ]
  },
  {
   "cell_type": "code",
   "execution_count": 13,
   "metadata": {},
   "outputs": [
    {
     "name": "stdout",
     "output_type": "stream",
     "text": [
      "Best parameters for DecisionTreeClassifier:  {'criterion': 'entropy'}\n"
     ]
    }
   ],
   "source": [
    "tuned_paramaters = [{'criterion': ['entropy','gini']}]\n",
    "\n",
    "dt = DecisionTreeClassifier(random_state=10)\n",
    "dt_grid = GridSearchCV(estimator = dt, \n",
    "                       param_grid = tuned_paramaters, \n",
    "                       cv = 5,scoring='accuracy')\n",
    "dt_grid_model = dt_grid.fit(X_train, y_train)\n",
    "print('Best parameters for DecisionTreeClassifier: ', dt_grid_model.best_params_)"
   ]
  },
  {
   "cell_type": "markdown",
   "metadata": {},
   "source": [
    "entropy is the best criterion for building a decision tree"
   ]
  },
  {
   "cell_type": "markdown",
   "metadata": {},
   "source": [
    "<table align=\"left\">\n",
    "    <tr>\n",
    "        <td width=\"6%\">\n",
    "            <img src=\"question_icon.png\">\n",
    "        </td>\n",
    "        <td>\n",
    "            <div align=\"left\", style=\"font-size:120%\">\n",
    "                <font color=\"#21618C\">\n",
    "                    <b>6. Build a random forest containing ten trees and compute the precision and sensitivity of the model from the confusion matrix \n",
    "                    </b>\n",
    "                </font>\n",
    "            </div>\n",
    "        </td>\n",
    "    </tr>\n",
    "</table>"
   ]
  },
  {
   "cell_type": "code",
   "execution_count": 14,
   "metadata": {},
   "outputs": [
    {
     "name": "stdout",
     "output_type": "stream",
     "text": [
      "              precision    recall  f1-score   support\n",
      "\n",
      "           0       0.97      0.97      0.97        39\n",
      "           1       0.95      0.95      0.95        21\n",
      "\n",
      "    accuracy                           0.97        60\n",
      "   macro avg       0.96      0.96      0.96        60\n",
      "weighted avg       0.97      0.97      0.97        60\n",
      "\n",
      "Sensitivity = 0.95\n",
      "Precision = [0.97435897 0.95238095]\n"
     ]
    }
   ],
   "source": [
    "rf=RandomForestClassifier(criterion='entropy',n_estimators=10,random_state=10)\n",
    "rf_model=rf.fit(X_train, y_train)\n",
    "y_pred=rf_model.predict(X_test)\n",
    "print(classification_report(y_test,y_pred))\n",
    "\n",
    "cm=confusion_matrix(y_test,y_pred)\n",
    "\n",
    "sensitivity = (cm[1][1])/(cm[1][1]+cm[1][0])\n",
    "print(\"Sensitivity =\",round(sensitivity,2))\n",
    "precision= precision_score(y_test,y_pred,average=None)\n",
    "print(\"Precision =\",precision)"
   ]
  },
  {
   "cell_type": "markdown",
   "metadata": {},
   "source": [
    "<table align=\"left\">\n",
    "    <tr>\n",
    "        <td width=\"6%\">\n",
    "            <img src=\"question_icon.png\">\n",
    "        </td>\n",
    "        <td>\n",
    "            <div align=\"left\", style=\"font-size:120%\">\n",
    "                <font color=\"#21618C\">\n",
    "                    <b>7. Find the optimal depth of the decision tree from the given list of values\n",
    "                    </b>\n",
    "                </font>\n",
    "            </div>\n",
    "        </td>\n",
    "    </tr>\n",
    "</table>"
   ]
  },
  {
   "cell_type": "markdown",
   "metadata": {},
   "source": [
    "**Use the given list:**\n",
    "\n",
    "depth_values = [3, 5, 7, 9]"
   ]
  },
  {
   "cell_type": "code",
   "execution_count": 15,
   "metadata": {},
   "outputs": [
    {
     "name": "stdout",
     "output_type": "stream",
     "text": [
      "Best parameters for DecisionTreeClassifier:  {'max_depth': 3}\n"
     ]
    }
   ],
   "source": [
    "tuned_paramaters = [{'max_depth': [3, 5, 7, 9]}]\n",
    "\n",
    "dt = DecisionTreeClassifier(random_state=10)\n",
    "dt_grid = GridSearchCV(estimator = dt, \n",
    "                       param_grid = tuned_paramaters, \n",
    "                       cv = 5,scoring='accuracy')\n",
    "dt_grid_model1 = dt_grid.fit(X_train, y_train)\n",
    "print('Best parameters for DecisionTreeClassifier: ', dt_grid_model1.best_params_)"
   ]
  },
  {
   "cell_type": "markdown",
   "metadata": {},
   "source": [
    "<table align=\"left\">\n",
    "    <tr>\n",
    "        <td width=\"6%\">\n",
    "            <img src=\"question_icon.png\">\n",
    "        </td>\n",
    "        <td>\n",
    "            <div align=\"left\", style=\"font-size:120%\">\n",
    "                <font color=\"#21618C\">\n",
    "                    <b>8. Build and plot a decision tree with maximum 5 terminal nodes (use the entropy criterion)\n",
    "                    </b>\n",
    "                </font>\n",
    "            </div>\n",
    "        </td>\n",
    "    </tr>\n",
    "</table>"
   ]
  },
  {
   "cell_type": "code",
   "execution_count": 16,
   "metadata": {},
   "outputs": [],
   "source": [
    "dt = DecisionTreeClassifier(random_state=10,max_leaf_nodes=5,criterion='entropy')\n",
    "dt_model2 = dt.fit(X_train, y_train)\n",
    "y_pred = dt_model2.predict(X_test)\n",
    "with open(\"seeds2.dot\",\"w\") as f:\n",
    "    f = tree.export_graphviz(dt_model2,\n",
    "                            feature_names=X_train.columns,out_file=f)\n",
    "# Open the downloaded file \"seeds2.dot\" in graphviz online to view the decision tree "
   ]
  },
  {
   "cell_type": "markdown",
   "metadata": {},
   "source": [
    "<table align=\"left\">\n",
    "    <tr>\n",
    "        <td width=\"6%\">\n",
    "            <img src=\"question_icon.png\">\n",
    "        </td>\n",
    "        <td>\n",
    "            <div align=\"left\", style=\"font-size:120%\">\n",
    "                <font color=\"#21618C\">\n",
    "                    <b>9. Build a random forest with entropy criterion such that each leaf node will contain at least three samples. Also calculate the f-1 score and accuracy of the model\n",
    "                    </b>\n",
    "                </font>\n",
    "            </div>\n",
    "        </td>\n",
    "    </tr>\n",
    "</table>"
   ]
  },
  {
   "cell_type": "code",
   "execution_count": 17,
   "metadata": {},
   "outputs": [
    {
     "name": "stdout",
     "output_type": "stream",
     "text": [
      "              precision    recall  f1-score   support\n",
      "\n",
      "           0       1.00      0.95      0.97        39\n",
      "           1       0.91      1.00      0.95        21\n",
      "\n",
      "    accuracy                           0.97        60\n",
      "   macro avg       0.96      0.97      0.96        60\n",
      "weighted avg       0.97      0.97      0.97        60\n",
      "\n",
      "f1-score : [0.97368421 0.95454545]\n",
      "f1-Accuracy : 0.9666666666666667\n"
     ]
    }
   ],
   "source": [
    "rf=RandomForestClassifier(criterion='entropy',min_samples_split=3,random_state=10)\n",
    "rf_model=rf.fit(X_train, y_train)\n",
    "y_pred=rf_model.predict(X_test)\n",
    "print(classification_report(y_test,y_pred))\n",
    "print(\"f1-score :\",f1_score(y_test,y_pred,average=None))\n",
    "print(\"f1-Accuracy :\",accuracy_score(y_test,y_pred))"
   ]
  },
  {
   "cell_type": "markdown",
   "metadata": {},
   "source": [
    "<table align=\"left\">\n",
    "    <tr>\n",
    "        <td width=\"6%\">\n",
    "            <img src=\"question_icon.png\">\n",
    "        </td>\n",
    "        <td>\n",
    "            <div align=\"left\", style=\"font-size:120%\">\n",
    "                <font color=\"#21618C\">\n",
    "                    <b>10. Plot a decision tree with the optimal criterion such that it will contain no more than 4 terminal nodes and each terminal node will contain at least 5 observations  \n",
    "                    </b>\n",
    "                </font>\n",
    "            </div>\n",
    "        </td>\n",
    "    </tr>\n",
    "</table>"
   ]
  },
  {
   "cell_type": "code",
   "execution_count": 18,
   "metadata": {},
   "outputs": [],
   "source": [
    "dt = DecisionTreeClassifier(random_state=10,max_leaf_nodes=4,min_samples_split=5,criterion='entropy')\n",
    "dt_model3 = dt.fit(X_train, y_train)\n",
    "y_pred = dt_model3.predict(X_test)\n",
    "with open(\"seeds3.dot\",\"w\") as f:\n",
    "    f = tree.export_graphviz(dt_model3,\n",
    "                            feature_names=X_train.columns,out_file=f)\n",
    "# Open the downloaded file \"seeds3.dot\" in graphviz online to view the decision tree "
   ]
  }
 ],
 "metadata": {
  "kernelspec": {
   "display_name": "Python 3",
   "language": "python",
   "name": "python3"
  },
  "language_info": {
   "codemirror_mode": {
    "name": "ipython",
    "version": 3
   },
   "file_extension": ".py",
   "mimetype": "text/x-python",
   "name": "python",
   "nbconvert_exporter": "python",
   "pygments_lexer": "ipython3",
   "version": "3.7.4"
  }
 },
 "nbformat": 4,
 "nbformat_minor": 2
}
