{
 "cells": [
  {
   "cell_type": "markdown",
   "metadata": {},
   "source": [
    "<table align=\"center\" width=100%>\n",
    "    <tr>\n",
    "        <td width=\"15%\">\n",
    "            <img src=\"homework.png\">\n",
    "        </td>\n",
    "        <td>\n",
    "            <div align=\"center\">\n",
    "                <font color=\"#21618C\" size=8px>\n",
    "                    <b> Take-Home <br>(Day 4)\n",
    "                    </b>\n",
    "                </font>\n",
    "            </div>\n",
    "        </td>\n",
    "    </tr>\n",
    "</table>"
   ]
  },
  {
   "cell_type": "markdown",
   "metadata": {},
   "source": [
    "#### Import the required libraries"
   ]
  },
  {
   "cell_type": "code",
   "execution_count": 30,
   "metadata": {},
   "outputs": [],
   "source": [
    "# type your code here\n",
    "# import 'Pandas' \n",
    "import pandas as pd \n",
    "\n",
    "# import 'Numpy' \n",
    "import numpy as np\n",
    "\n",
    "# import subpackage of Matplotlib\n",
    "import matplotlib.pyplot as plt\n",
    "from matplotlib.colors import ListedColormap\n",
    "\n",
    "# import 'Seaborn' \n",
    "import seaborn as sns\n",
    "\n",
    "# to suppress warnings \n",
    "from warnings import filterwarnings\n",
    "filterwarnings('ignore')\n",
    "\n",
    "# display all columns of the dataframe\n",
    "pd.options.display.max_columns = None\n",
    "\n",
    "# display all rows of the dataframe\n",
    "pd.options.display.max_rows = None\n",
    " \n",
    "# to display the float values upto 6 decimal places     \n",
    "pd.options.display.float_format = '{:.6f}'.format\n",
    "\n",
    "# import train-test split \n",
    "from sklearn.model_selection import train_test_split\n",
    "\n",
    "# import StandardScaler to perform scaling\n",
    "from sklearn.preprocessing import StandardScaler \n",
    "\n",
    "# resample the dataset\n",
    "from sklearn.utils import resample\n",
    "from sklearn.utils import shuffle\n",
    "\n",
    "# import various functions from sklearn \n",
    "from sklearn import metrics\n",
    "from sklearn.metrics import classification_report\n",
    "from sklearn.ensemble import AdaBoostClassifier\n",
    "from sklearn.ensemble import GradientBoostingClassifier\n",
    "from sklearn.model_selection import GridSearchCV\n",
    "from sklearn.metrics import accuracy_score\n",
    "from sklearn.metrics import roc_curve\n",
    "from sklearn.metrics import roc_auc_score\n",
    "from sklearn.metrics import confusion_matrix\n",
    "from sklearn.model_selection import GridSearchCV\n",
    "from sklearn.model_selection import cross_val_score\n",
    "from sklearn.tree import DecisionTreeClassifier\n",
    "from sklearn.ensemble import RandomForestClassifier\n",
    "from sklearn.ensemble import StackingClassifier\n",
    "\n",
    "# import various functions from sklearn\n",
    "from sklearn.metrics import classification_report\n",
    "from sklearn.metrics import confusion_matrix\n",
    "from sklearn.metrics import roc_curve\n",
    "from sklearn.metrics import roc_auc_score\n",
    "from sklearn.ensemble import AdaBoostClassifier\n",
    "from sklearn.ensemble import GradientBoostingClassifier\n",
    "from sklearn.model_selection import GridSearchCV\n",
    "from sklearn.ensemble import StackingClassifier\n",
    "from sklearn.ensemble import RandomForestClassifier\n",
    "from sklearn.neighbors import KNeighborsClassifier\n",
    "from sklearn.naive_bayes import GaussianNB\n",
    "\n",
    "# import the XGBoost function for classification\n",
    "from xgboost import XGBClassifier\n",
    "# import the XGBoost function for classification\n",
    "from xgboost import XGBClassifier\n",
    "import statsmodels.api as sm\n",
    "import random"
   ]
  },
  {
   "cell_type": "code",
   "execution_count": 31,
   "metadata": {},
   "outputs": [],
   "source": [
    "plt.rcParams['figure.figsize'] = [15,8]"
   ]
  },
  {
   "cell_type": "markdown",
   "metadata": {},
   "source": [
    "#### Read the data\n",
    "\n",
    "Load the csv file and print the first five observations."
   ]
  },
  {
   "cell_type": "code",
   "execution_count": 32,
   "metadata": {},
   "outputs": [
    {
     "data": {
      "text/html": [
       "<div>\n",
       "<style scoped>\n",
       "    .dataframe tbody tr th:only-of-type {\n",
       "        vertical-align: middle;\n",
       "    }\n",
       "\n",
       "    .dataframe tbody tr th {\n",
       "        vertical-align: top;\n",
       "    }\n",
       "\n",
       "    .dataframe thead th {\n",
       "        text-align: right;\n",
       "    }\n",
       "</style>\n",
       "<table border=\"1\" class=\"dataframe\">\n",
       "  <thead>\n",
       "    <tr style=\"text-align: right;\">\n",
       "      <th></th>\n",
       "      <th>Area</th>\n",
       "      <th>Perimeter</th>\n",
       "      <th>Kernel_len</th>\n",
       "      <th>Kernel_width</th>\n",
       "      <th>Kernelgroove_len</th>\n",
       "      <th>Type</th>\n",
       "    </tr>\n",
       "  </thead>\n",
       "  <tbody>\n",
       "    <tr>\n",
       "      <th>0</th>\n",
       "      <td>12.760000</td>\n",
       "      <td>13.380000</td>\n",
       "      <td>5.073000</td>\n",
       "      <td>3.155000</td>\n",
       "      <td>4.830000</td>\n",
       "      <td>0.000000</td>\n",
       "    </tr>\n",
       "    <tr>\n",
       "      <th>1</th>\n",
       "      <td>12.130000</td>\n",
       "      <td>13.730000</td>\n",
       "      <td>5.394000</td>\n",
       "      <td>3.745000</td>\n",
       "      <td>5.220000</td>\n",
       "      <td>0.000000</td>\n",
       "    </tr>\n",
       "    <tr>\n",
       "      <th>2</th>\n",
       "      <td>14.860000</td>\n",
       "      <td>14.670000</td>\n",
       "      <td>nan</td>\n",
       "      <td>3.258000</td>\n",
       "      <td>5.351000</td>\n",
       "      <td>0.000000</td>\n",
       "    </tr>\n",
       "    <tr>\n",
       "      <th>3</th>\n",
       "      <td>15.690000</td>\n",
       "      <td>14.750000</td>\n",
       "      <td>5.527000</td>\n",
       "      <td>3.514000</td>\n",
       "      <td>5.046000</td>\n",
       "      <td>0.000000</td>\n",
       "    </tr>\n",
       "    <tr>\n",
       "      <th>4</th>\n",
       "      <td>19.940000</td>\n",
       "      <td>16.920000</td>\n",
       "      <td>6.675000</td>\n",
       "      <td>3.763000</td>\n",
       "      <td>6.550000</td>\n",
       "      <td>1.000000</td>\n",
       "    </tr>\n",
       "  </tbody>\n",
       "</table>\n",
       "</div>"
      ],
      "text/plain": [
       "       Area  Perimeter  Kernel_len  Kernel_width  Kernelgroove_len     Type\n",
       "0 12.760000  13.380000    5.073000      3.155000          4.830000 0.000000\n",
       "1 12.130000  13.730000    5.394000      3.745000          5.220000 0.000000\n",
       "2 14.860000  14.670000         nan      3.258000          5.351000 0.000000\n",
       "3 15.690000  14.750000    5.527000      3.514000          5.046000 0.000000\n",
       "4 19.940000  16.920000    6.675000      3.763000          6.550000 1.000000"
      ]
     },
     "execution_count": 32,
     "metadata": {},
     "output_type": "execute_result"
    }
   ],
   "source": [
    "# type your code here\n",
    "df=pd.read_csv(\"seedtype_data.csv\")\n",
    "df.head()"
   ]
  },
  {
   "cell_type": "markdown",
   "metadata": {},
   "source": [
    "**The data definition is as follows:** <br>\n",
    "\n",
    "**Area**: Area of the wheat kernel \n",
    "\n",
    "**Perimeter**: Perimeter of the wheat kernel\n",
    "\n",
    "**Kernel_len**: Length of the wheat kernel\n",
    "\n",
    "**Kernel_width**: Width of the wheat kernel\n",
    "\n",
    "**Kernelgroove_len**: Length of the wheat kernel groove\n",
    "\n",
    "**Type**: Type of the wheat seed (0 = Kama Wheat, 1 = Rosa Wheat) (target/dependent variable)"
   ]
  },
  {
   "cell_type": "markdown",
   "metadata": {},
   "source": [
    "Our objective is to predict whether the wheat seed is of Kama or Rosa type."
   ]
  },
  {
   "cell_type": "markdown",
   "metadata": {},
   "source": [
    "### Let's begin with some hands-on practice exercises"
   ]
  },
  {
   "cell_type": "code",
   "execution_count": 33,
   "metadata": {},
   "outputs": [
    {
     "data": {
      "text/plain": [
       "(202, 6)"
      ]
     },
     "execution_count": 33,
     "metadata": {},
     "output_type": "execute_result"
    }
   ],
   "source": [
    "df.shape"
   ]
  },
  {
   "cell_type": "code",
   "execution_count": 34,
   "metadata": {},
   "outputs": [
    {
     "data": {
      "text/plain": [
       "Area                float64\n",
       "Perimeter           float64\n",
       "Kernel_len          float64\n",
       "Kernel_width        float64\n",
       "Kernelgroove_len    float64\n",
       "Type                float64\n",
       "dtype: object"
      ]
     },
     "execution_count": 34,
     "metadata": {},
     "output_type": "execute_result"
    }
   ],
   "source": [
    "df.dtypes"
   ]
  },
  {
   "cell_type": "markdown",
   "metadata": {},
   "source": [
    "<table align=\"left\">\n",
    "    <tr>\n",
    "        <td width=\"6%\">\n",
    "            <img src=\"question_icon.png\">\n",
    "        </td>\n",
    "        <td>\n",
    "            <div align=\"left\", style=\"font-size:120%\">\n",
    "                <font color=\"#21618C\">\n",
    "                    <b>1. Is there any record where no data have been reported? If yes, do the needful</b>\n",
    "                </font>\n",
    "            </div>\n",
    "        </td>\n",
    "    </tr>\n",
    "</table>"
   ]
  },
  {
   "cell_type": "code",
   "execution_count": 35,
   "metadata": {},
   "outputs": [
    {
     "data": {
      "text/plain": [
       "Area               2.504142\n",
       "Perimeter          1.210241\n",
       "Kernel_len         0.445302\n",
       "Kernel_width       0.305630\n",
       "Kernelgroove_len   0.479849\n",
       "Type               0.480258\n",
       "dtype: float64"
      ]
     },
     "execution_count": 35,
     "metadata": {},
     "output_type": "execute_result"
    }
   ],
   "source": [
    "# type your code here\n",
    "df.std()"
   ]
  },
  {
   "cell_type": "code",
   "execution_count": 36,
   "metadata": {},
   "outputs": [],
   "source": [
    "# There is no any record where no data have been reported."
   ]
  },
  {
   "cell_type": "markdown",
   "metadata": {},
   "source": [
    "<table align=\"left\">\n",
    "    <tr>\n",
    "        <td width=\"6%\">\n",
    "            <img src=\"question_icon.png\">\n",
    "        </td>\n",
    "        <td>\n",
    "            <div align=\"left\", style=\"font-size:120%\">\n",
    "                <font color=\"#21618C\">\n",
    "                    <b>2. Use the visualization technique to identify the variables with missing data</b>\n",
    "                </font>\n",
    "            </div>\n",
    "        </td>\n",
    "    </tr>\n",
    "</table>"
   ]
  },
  {
   "cell_type": "code",
   "execution_count": 37,
   "metadata": {},
   "outputs": [
    {
     "data": {
      "text/html": [
       "<div>\n",
       "<style scoped>\n",
       "    .dataframe tbody tr th:only-of-type {\n",
       "        vertical-align: middle;\n",
       "    }\n",
       "\n",
       "    .dataframe tbody tr th {\n",
       "        vertical-align: top;\n",
       "    }\n",
       "\n",
       "    .dataframe thead th {\n",
       "        text-align: right;\n",
       "    }\n",
       "</style>\n",
       "<table border=\"1\" class=\"dataframe\">\n",
       "  <thead>\n",
       "    <tr style=\"text-align: right;\">\n",
       "      <th></th>\n",
       "      <th>Total</th>\n",
       "      <th>Percentage of Missing Values</th>\n",
       "    </tr>\n",
       "  </thead>\n",
       "  <tbody>\n",
       "    <tr>\n",
       "      <th>Kernel_len</th>\n",
       "      <td>9</td>\n",
       "      <td>4.455446</td>\n",
       "    </tr>\n",
       "    <tr>\n",
       "      <th>Type</th>\n",
       "      <td>3</td>\n",
       "      <td>1.485149</td>\n",
       "    </tr>\n",
       "    <tr>\n",
       "      <th>Kernelgroove_len</th>\n",
       "      <td>3</td>\n",
       "      <td>1.485149</td>\n",
       "    </tr>\n",
       "    <tr>\n",
       "      <th>Kernel_width</th>\n",
       "      <td>3</td>\n",
       "      <td>1.485149</td>\n",
       "    </tr>\n",
       "    <tr>\n",
       "      <th>Perimeter</th>\n",
       "      <td>3</td>\n",
       "      <td>1.485149</td>\n",
       "    </tr>\n",
       "    <tr>\n",
       "      <th>Area</th>\n",
       "      <td>3</td>\n",
       "      <td>1.485149</td>\n",
       "    </tr>\n",
       "  </tbody>\n",
       "</table>\n",
       "</div>"
      ],
      "text/plain": [
       "                  Total  Percentage of Missing Values\n",
       "Kernel_len            9                      4.455446\n",
       "Type                  3                      1.485149\n",
       "Kernelgroove_len      3                      1.485149\n",
       "Kernel_width          3                      1.485149\n",
       "Perimeter             3                      1.485149\n",
       "Area                  3                      1.485149"
      ]
     },
     "execution_count": 37,
     "metadata": {},
     "output_type": "execute_result"
    }
   ],
   "source": [
    "Total = df.isnull().sum().sort_values(ascending=False)          \n",
    "Percent = (df.isnull().sum()*100/df.isnull().count()).sort_values(ascending=False)   \n",
    "missing_data = pd.concat([Total, Percent], axis = 1, keys = ['Total', 'Percentage of Missing Values'])    \n",
    "missing_data"
   ]
  },
  {
   "cell_type": "markdown",
   "metadata": {},
   "source": [
    "<table align=\"left\">\n",
    "    <tr>\n",
    "        <td width=\"6%\">\n",
    "            <img src=\"question_icon.png\">\n",
    "        </td>\n",
    "        <td>\n",
    "            <div align=\"left\", style=\"font-size:120%\">\n",
    "                <font color=\"#21618C\">\n",
    "                    <b>3. Use the appropriate technique to replace the missing data in the variable representing the length of a wheat kernel\n",
    "                    </b>\n",
    "                </font>\n",
    "            </div>\n",
    "        </td>\n",
    "    </tr>\n",
    "</table>"
   ]
  },
  {
   "cell_type": "code",
   "execution_count": 38,
   "metadata": {},
   "outputs": [],
   "source": [
    "# type your code here\n",
    "df['Kernel_len'] = df['Kernel_len'].fillna(df['Kernel_len'].median())\n",
    "df['Area'] = df['Area'].fillna(df['Area'].median())\n",
    "df['Perimeter'] = df['Perimeter'].fillna(df['Perimeter'].median())\n",
    "df['Kernel_width'] = df['Kernel_width'].fillna(df['Kernel_width'].median())\n",
    "df['Kernelgroove_len'] = df['Kernelgroove_len'].fillna(df['Kernelgroove_len'].median())\n",
    "df['Type'] = df['Type'].fillna(df['Type'].median())"
   ]
  },
  {
   "cell_type": "markdown",
   "metadata": {},
   "source": [
    "<table align=\"left\">\n",
    "    <tr>\n",
    "        <td width=\"6%\">\n",
    "            <img src=\"question_icon.png\">\n",
    "        </td>\n",
    "        <td>\n",
    "            <div align=\"left\", style=\"font-size:120%\">\n",
    "                <font color=\"#21618C\">\n",
    "                    <b>4. Identify the variables containing extreme values and remove such observations, if present\n",
    "                    </b>\n",
    "                </font>\n",
    "            </div>\n",
    "        </td>\n",
    "    </tr>\n",
    "</table>"
   ]
  },
  {
   "cell_type": "code",
   "execution_count": 39,
   "metadata": {},
   "outputs": [
    {
     "data": {
      "image/png": "[encoded data removed]",
      "text/plain": [
       "<Figure size 1080x576 with 6 Axes>"
      ]
     },
     "metadata": {
      "needs_background": "light"
     },
     "output_type": "display_data"
    },
    {
     "name": "stdout",
     "output_type": "stream",
     "text": [
      "Skewness:\n"
     ]
    },
    {
     "data": {
      "text/plain": [
       "Area                0.453363\n",
       "Perimeter           0.292416\n",
       "Kernel_len          0.516168\n",
       "Kernel_width       -0.178799\n",
       "Kernelgroove_len    0.551106\n",
       "Type                0.626802\n",
       "dtype: float64"
      ]
     },
     "execution_count": 39,
     "metadata": {},
     "output_type": "execute_result"
    }
   ],
   "source": [
    "\n",
    "df.hist()\n",
    "plt.tight_layout()\n",
    "plt.show()  \n",
    "print('Skewness:')\n",
    "df.skew()"
   ]
  },
  {
   "cell_type": "markdown",
   "metadata": {},
   "source": [
    "<table align=\"left\">\n",
    "    <tr>\n",
    "        <td width=\"6%\">\n",
    "            <img src=\"question_icon.png\">\n",
    "        </td>\n",
    "        <td>\n",
    "            <div align=\"left\", style=\"font-size:120%\">\n",
    "                <font color=\"#21618C\">\n",
    "                    <b>5. Apply the gradient boosting on 80% of the data with 250 estimators each of maximum depth 2. Also, calculate the precision and sensitivity using the confusion matrix\n",
    "                    </b>\n",
    "                </font>\n",
    "            </div>\n",
    "        </td>\n",
    "    </tr>\n",
    "</table>"
   ]
  },
  {
   "cell_type": "code",
   "execution_count": 40,
   "metadata": {},
   "outputs": [],
   "source": [
    "x=df.drop([\"Type\"],axis=1)\n",
    "y=df[\"Type\"]\n",
    "X=sm.add_constant(x)"
   ]
  },
  {
   "cell_type": "code",
   "execution_count": 41,
   "metadata": {},
   "outputs": [],
   "source": [
    "X_train, X_test, y_train, y_test = train_test_split(X, y, random_state = 10, test_size = 0.2)"
   ]
  },
  {
   "cell_type": "code",
   "execution_count": 42,
   "metadata": {},
   "outputs": [
    {
     "data": {
      "text/plain": [
       "GradientBoostingClassifier(max_depth=2, n_estimators=250, random_state=10)"
      ]
     },
     "execution_count": 42,
     "metadata": {},
     "output_type": "execute_result"
    }
   ],
   "source": [
    "# type your code here\n",
    "gboost_model = GradientBoostingClassifier(n_estimators = 250, max_depth = 2, random_state = 10)\n",
    "\n",
    "# fit the model using fit() on train data\n",
    "gboost_model.fit(X_train, y_train)"
   ]
  },
  {
   "cell_type": "code",
   "execution_count": 43,
   "metadata": {},
   "outputs": [],
   "source": [
    "def plot_confusion_matrix(model):\n",
    "    y_pred = model.predict(X_test)\n",
    "    cm = confusion_matrix(y_test, y_pred)\n",
    "    conf_matrix = pd.DataFrame(data = cm,columns = ['Predicted:0','Predicted:1'], index = ['Actual:0','Actual:1'])\n",
    "    sns.heatmap(conf_matrix, annot = True, fmt = 'd', cmap = ListedColormap(['lightskyblue']), cbar = False, \n",
    "                linewidths = 0.1, annot_kws = {'size':25})\n",
    "    plt.xticks(fontsize = 20)\n",
    "    plt.yticks(fontsize = 20)\n",
    "    plt.show()"
   ]
  },
  {
   "cell_type": "code",
   "execution_count": 44,
   "metadata": {},
   "outputs": [
    {
     "data": {
      "image/png": "[encoded data removed]",
      "text/plain": [
       "<Figure size 1080x576 with 1 Axes>"
      ]
     },
     "metadata": {
      "needs_background": "light"
     },
     "output_type": "display_data"
    }
   ],
   "source": [
    "plot_confusion_matrix(gboost_model)"
   ]
  },
  {
   "cell_type": "markdown",
   "metadata": {},
   "source": [
    "<table align=\"left\">\n",
    "    <tr>\n",
    "        <td width=\"6%\">\n",
    "            <img src=\"question_icon.png\">\n",
    "        </td>\n",
    "        <td>\n",
    "            <div align=\"left\", style=\"font-size:120%\">\n",
    "                <font color=\"#21618C\">\n",
    "                    <b>6. Create 80 stumps using AdaBoost and plot the ROC curve along with the AUC score\n",
    "                    </b>\n",
    "                </font>\n",
    "            </div>\n",
    "        </td>\n",
    "    </tr>\n",
    "</table>"
   ]
  },
  {
   "cell_type": "code",
   "execution_count": 45,
   "metadata": {},
   "outputs": [],
   "source": [
    "# create a generalized function to calculate the metrics values for test set\n",
    "def get_test_report(model):\n",
    "    \n",
    "    # for test set:\n",
    "    # test_pred: prediction made by the model on the test dataset 'X_test'\n",
    "    # y_test: actual values of the target variable for the test dataset\n",
    "\n",
    "    # predict the output of the target variable from the test data \n",
    "    test_pred = model.predict(X_test)\n",
    "\n",
    "    # return the classification report for test data\n",
    "    return(classification_report(y_test, test_pred))"
   ]
  },
  {
   "cell_type": "code",
   "execution_count": 46,
   "metadata": {},
   "outputs": [],
   "source": [
    "def plot_roc(model):\n",
    "    y_pred_prob = model.predict_proba(X_test)[:,1]\n",
    "    fpr, tpr, thresholds = roc_curve(y_test, y_pred_prob)\n",
    "    plt.plot(fpr, tpr)\n",
    "    plt.xlim([0.0, 1.0])\n",
    "    plt.ylim([0.0, 1.0])\n",
    "    plt.plot([0, 1], [0, 1],'r--')\n",
    "    plt.title('ROC curve for Admission Prediction Classifier', fontsize = 15)\n",
    "    plt.xlabel('False positive rate (1-Specificity)', fontsize = 15)\n",
    "    plt.ylabel('True positive rate (Sensitivity)', fontsize = 15)\n",
    "    plt.text(x = 0.82, y = 0.3, s = ('AUC Score:',round(roc_auc_score(y_test, y_pred_prob),4)))\n",
    "    plt.grid(True)"
   ]
  },
  {
   "cell_type": "code",
   "execution_count": 47,
   "metadata": {},
   "outputs": [
    {
     "data": {
      "text/plain": [
       "AdaBoostClassifier(n_estimators=80, random_state=10)"
      ]
     },
     "execution_count": 47,
     "metadata": {},
     "output_type": "execute_result"
    }
   ],
   "source": [
    "ada_model = AdaBoostClassifier(n_estimators = 80, random_state = 10)\n",
    "ada_model.fit(X_train, y_train)"
   ]
  },
  {
   "cell_type": "code",
   "execution_count": 48,
   "metadata": {},
   "outputs": [
    {
     "name": "stdout",
     "output_type": "stream",
     "text": [
      "              precision    recall  f1-score   support\n",
      "\n",
      "         0.0       0.89      0.93      0.91        27\n",
      "         1.0       0.85      0.79      0.81        14\n",
      "\n",
      "    accuracy                           0.88        41\n",
      "   macro avg       0.87      0.86      0.86        41\n",
      "weighted avg       0.88      0.88      0.88        41\n",
      "\n"
     ]
    }
   ],
   "source": [
    "test_report = get_test_report(ada_model)\n",
    "\n",
    "# print the performance measures\n",
    "print(test_report)"
   ]
  },
  {
   "cell_type": "code",
   "execution_count": 49,
   "metadata": {},
   "outputs": [
    {
     "data": {
      "image/png": "[encoded data removed]",
      "text/plain": [
       "<Figure size 1080x576 with 1 Axes>"
      ]
     },
     "metadata": {
      "needs_background": "light"
     },
     "output_type": "display_data"
    }
   ],
   "source": [
    "plot_roc(ada_model)"
   ]
  },
  {
   "cell_type": "markdown",
   "metadata": {},
   "source": [
    "<table align=\"left\">\n",
    "    <tr>\n",
    "        <td width=\"6%\">\n",
    "            <img src=\"question_icon.png\">\n",
    "        </td>\n",
    "        <td>\n",
    "            <div align=\"left\", style=\"font-size:120%\">\n",
    "                <font color=\"#21618C\">\n",
    "                    <b>7. Select the optimal maximum depth from the given values for 180 base learners to build the gradient boosting classifier (consider 3-fold cross validation)\n",
    "                    </b>\n",
    "                </font>\n",
    "            </div>\n",
    "        </td>\n",
    "    </tr>\n",
    "</table>"
   ]
  },
  {
   "cell_type": "markdown",
   "metadata": {},
   "source": [
    "**Use the given list:**\n",
    "\n",
    "depth = [2, 3, 4, 5, 6, 7, 8]"
   ]
  },
  {
   "cell_type": "code",
   "execution_count": 50,
   "metadata": {},
   "outputs": [
    {
     "name": "stdout",
     "output_type": "stream",
     "text": [
      "Best parameters for GBoost classifier:  {'learning_rate': 180, 'max_depth': 3} \n",
      "\n"
     ]
    }
   ],
   "source": [
    "\n",
    "tuning_parameters = {'learning_rate': [180],\n",
    "                     'max_depth': [2, 3, 4, 5, 6, 7, 8]}\n",
    "\n",
    "gb_model = GradientBoostingClassifier()\n",
    "gb_grid = GridSearchCV(estimator = gb_model, param_grid = tuning_parameters, cv = 3, scoring = 'roc_auc')\n",
    "gb_grid.fit(X_train, y_train)\n",
    "\n",
    "print('Best parameters for GBoost classifier: ', gb_grid.best_params_, '\\n')"
   ]
  },
  {
   "cell_type": "markdown",
   "metadata": {},
   "source": [
    "<table align=\"left\">\n",
    "    <tr>\n",
    "        <td width=\"6%\">\n",
    "            <img src=\"question_icon.png\">\n",
    "        </td>\n",
    "        <td>\n",
    "            <div align=\"left\", style=\"font-size:120%\">\n",
    "                <font color=\"#21618C\">\n",
    "                    <b>8. Build the XGBoost model with a learning rate of 0.4 and gamma equal to 3. Calculate the accuracy by plotting the confusion matrix\n",
    "                    </b>\n",
    "                </font>\n",
    "            </div>\n",
    "        </td>\n",
    "    </tr>\n",
    "</table>"
   ]
  },
  {
   "cell_type": "code",
   "execution_count": 51,
   "metadata": {},
   "outputs": [
    {
     "name": "stdout",
     "output_type": "stream",
     "text": [
      "[22:02:46] WARNING: C:/Users/Administrator/workspace/xgboost-win64_release_1.4.0/src/learner.cc:1095: Starting in XGBoost 1.3.0, the default evaluation metric used with the objective 'binary:logistic' was changed from 'error' to 'logloss'. Explicitly set eval_metric if you'd like to restore the old behavior.\n",
      "[22:02:46] WARNING: C:/Users/Administrator/workspace/xgboost-win64_release_1.4.0/src/learner.cc:1095: Starting in XGBoost 1.3.0, the default evaluation metric used with the objective 'binary:logistic' was changed from 'error' to 'logloss'. Explicitly set eval_metric if you'd like to restore the old behavior.\n",
      "[22:02:46] WARNING: C:/Users/Administrator/workspace/xgboost-win64_release_1.4.0/src/learner.cc:1095: Starting in XGBoost 1.3.0, the default evaluation metric used with the objective 'binary:logistic' was changed from 'error' to 'logloss'. Explicitly set eval_metric if you'd like to restore the old behavior.\n",
      "[22:02:46] WARNING: C:/Users/Administrator/workspace/xgboost-win64_release_1.4.0/src/learner.cc:1095: Starting in XGBoost 1.3.0, the default evaluation metric used with the objective 'binary:logistic' was changed from 'error' to 'logloss'. Explicitly set eval_metric if you'd like to restore the old behavior.\n",
      "Best parameters for XGBoost classifier:  {'gamma': 3, 'learning_rate': 0.4} \n",
      "\n"
     ]
    }
   ],
   "source": [
    "\n",
    "tuning_parameters = {'learning_rate': [0.4],\n",
    "                     'gamma': [3]}\n",
    "xgb_model = XGBClassifier()\n",
    "xgb_grid = GridSearchCV(estimator = xgb_model, param_grid = tuning_parameters, cv = 3, scoring = 'accuracy')\n",
    "xgb_grid.fit(X_train, y_train)\n",
    "print('Best parameters for XGBoost classifier: ', xgb_grid.best_params_, '\\n')"
   ]
  },
  {
   "cell_type": "code",
   "execution_count": 52,
   "metadata": {},
   "outputs": [
    {
     "name": "stdout",
     "output_type": "stream",
     "text": [
      "[22:02:46] WARNING: C:/Users/Administrator/workspace/xgboost-win64_release_1.4.0/src/learner.cc:1095: Starting in XGBoost 1.3.0, the default evaluation metric used with the objective 'binary:logistic' was changed from 'error' to 'logloss'. Explicitly set eval_metric if you'd like to restore the old behavior.\n",
      "Classification Report for test set:\n",
      "               precision    recall  f1-score   support\n",
      "\n",
      "         0.0       0.90      1.00      0.95        27\n",
      "         1.0       1.00      0.79      0.88        14\n",
      "\n",
      "    accuracy                           0.93        41\n",
      "   macro avg       0.95      0.89      0.91        41\n",
      "weighted avg       0.93      0.93      0.92        41\n",
      "\n"
     ]
    }
   ],
   "source": [
    "xgb_grid_model = XGBClassifier(learning_rate = xgb_grid.best_params_.get('learning_rate'),\n",
    "                               max_depth = xgb_grid.best_params_.get('max_depth'),\n",
    "                              gamma = xgb_grid.best_params_.get('gamma'))\n",
    "xgb_model = xgb_grid_model.fit(X_train, y_train)\n",
    "print('Classification Report for test set:\\n', get_test_report(xgb_model))"
   ]
  },
  {
   "cell_type": "code",
   "execution_count": 53,
   "metadata": {},
   "outputs": [
    {
     "data": {
      "image/png": "[encoded data removed]",
      "text/plain": [
       "<Figure size 1080x576 with 1 Axes>"
      ]
     },
     "metadata": {
      "needs_background": "light"
     },
     "output_type": "display_data"
    }
   ],
   "source": [
    "plot_confusion_matrix(xgb_model)"
   ]
  },
  {
   "cell_type": "markdown",
   "metadata": {},
   "source": [
    "<table align=\"left\">\n",
    "    <tr>\n",
    "        <td width=\"6%\">\n",
    "            <img src=\"question_icon.png\">\n",
    "        </td>\n",
    "        <td>\n",
    "            <div align=\"left\", style=\"font-size:120%\">\n",
    "                <font color=\"#21618C\">\n",
    "                    <b>9. Use the stacking technique on 70% of the data with the 9-NN and Naive Bayes model as base learners. Consider the Adaboost model as a final estimator. Also, compute the AUC score of the model </b>\n",
    "                </font>\n",
    "            </div>\n",
    "        </td>\n",
    "    </tr>\n",
    "</table>"
   ]
  },
  {
   "cell_type": "code",
   "execution_count": 54,
   "metadata": {},
   "outputs": [
    {
     "data": {
      "text/plain": [
       "StackingClassifier(estimators=[('rf_model',\n",
       "                                RandomForestClassifier(criterion='entropy',\n",
       "                                                       max_depth=10,\n",
       "                                                       max_features='sqrt',\n",
       "                                                       max_leaf_nodes=8,\n",
       "                                                       min_samples_leaf=5,\n",
       "                                                       n_estimators=50,\n",
       "                                                       random_state=10)),\n",
       "                               ('KNN_model',\n",
       "                                KNeighborsClassifier(metric='euclidean',\n",
       "                                                     n_neighbors=17)),\n",
       "                               ('NB_model', GaussianNB())],\n",
       "                   final_estimator=GaussianNB())"
      ]
     },
     "execution_count": 54,
     "metadata": {},
     "output_type": "execute_result"
    }
   ],
   "source": [
    "# type your code here\n",
    "# consider the various algorithms as base learners\n",
    "base_learners = [('rf_model', RandomForestClassifier(criterion = 'entropy', max_depth = 10, max_features = 'sqrt', \n",
    "                                                     max_leaf_nodes = 8, min_samples_leaf = 5, min_samples_split = 2, \n",
    "                                                     n_estimators = 50, random_state = 10)),\n",
    "                 ('KNN_model', KNeighborsClassifier(n_neighbors = 17, metric = 'euclidean')),\n",
    "                 ('NB_model', GaussianNB())]\n",
    "\n",
    "# initialize stacking classifier \n",
    "# pass the base learners to the parameter, 'estimators'\n",
    "# pass the Naive Bayes model as the 'final_estimator'/ meta model\n",
    "stack_model = StackingClassifier(estimators = base_learners, final_estimator = GaussianNB())\n",
    "\n",
    "# fit the model on train dataset\n",
    "stack_model.fit(X_train, y_train)"
   ]
  },
  {
   "cell_type": "code",
   "execution_count": 55,
   "metadata": {},
   "outputs": [
    {
     "data": {
      "image/png": "[encoded data removed]",
      "text/plain": [
       "<Figure size 1080x576 with 1 Axes>"
      ]
     },
     "metadata": {
      "needs_background": "light"
     },
     "output_type": "display_data"
    }
   ],
   "source": [
    "plot_roc(stack_model)"
   ]
  },
  {
   "cell_type": "markdown",
   "metadata": {},
   "source": [
    "<table align=\"left\">\n",
    "    <tr>\n",
    "        <td width=\"6%\">\n",
    "            <img src=\"question_icon.png\">\n",
    "        </td>\n",
    "        <td>\n",
    "            <div align=\"left\", style=\"font-size:120%\">\n",
    "                <font color=\"#21618C\">\n",
    "                    <b>10. Use the base learners in Q9 and build a stacking model with the XGBoost as final estimator. Compute the AUC score of the model and compare it with the result of Q9 \n",
    "                    </b>\n",
    "                </font>\n",
    "            </div>\n",
    "        </td>\n",
    "    </tr>\n",
    "</table>"
   ]
  },
  {
   "cell_type": "code",
   "execution_count": 28,
   "metadata": {},
   "outputs": [
    {
     "name": "stdout",
     "output_type": "stream",
     "text": [
      "[21:57:55] WARNING: C:/Users/Administrator/workspace/xgboost-win64_release_1.4.0/src/learner.cc:1095: Starting in XGBoost 1.3.0, the default evaluation metric used with the objective 'binary:logistic' was changed from 'error' to 'logloss'. Explicitly set eval_metric if you'd like to restore the old behavior.\n"
     ]
    },
    {
     "data": {
      "text/plain": [
       "StackingClassifier(estimators=[('rf_model',\n",
       "                                RandomForestClassifier(criterion='entropy',\n",
       "                                                       max_depth=10,\n",
       "                                                       max_features='sqrt',\n",
       "                                                       max_leaf_nodes=8,\n",
       "                                                       min_samples_leaf=5,\n",
       "                                                       n_estimators=50,\n",
       "                                                       random_state=10)),\n",
       "                               ('KNN_model',\n",
       "                                KNeighborsClassifier(metric='euclidean',\n",
       "                                                     n_neighbors=17)),\n",
       "                               ('NB_model', GaussianNB())],\n",
       "                   final_estimator=XGBClassifier(base_score=0.5,\n",
       "                                                 booster='gbtree',\n",
       "                                                 co...\n",
       "                                                 colsample_bytree=1, gamma=3,\n",
       "                                                 gpu_id=-1,\n",
       "                                                 importance_type='gain',\n",
       "                                                 interaction_constraints='',\n",
       "                                                 learning_rate=0.4,\n",
       "                                                 max_delta_step=0, max_depth=6,\n",
       "                                                 min_child_weight=1,\n",
       "                                                 missing=nan,\n",
       "                                                 monotone_constraints='()',\n",
       "                                                 n_estimators=100, n_jobs=8,\n",
       "                                                 num_parallel_tree=1,\n",
       "                                                 random_state=0, reg_alpha=0,\n",
       "                                                 reg_lambda=1,\n",
       "                                                 scale_pos_weight=1,\n",
       "                                                 subsample=1,\n",
       "                                                 tree_method='exact',\n",
       "                                                 validate_parameters=1,\n",
       "                                                 verbosity=None))"
      ]
     },
     "execution_count": 28,
     "metadata": {},
     "output_type": "execute_result"
    }
   ],
   "source": [
    "# type your code here\n",
    "# type your code here\n",
    "# consider the various algorithms as base learners\n",
    "base_learners = [('rf_model', RandomForestClassifier(criterion = 'entropy', max_depth = 10, max_features = 'sqrt', \n",
    "                                                     max_leaf_nodes = 8, min_samples_leaf = 5, min_samples_split = 2, \n",
    "                                                     n_estimators = 50, random_state = 10)),\n",
    "                 ('KNN_model', KNeighborsClassifier(n_neighbors = 17, metric = 'euclidean')),\n",
    "                 ('NB_model', GaussianNB())]\n",
    "\n",
    "# initialize stacking classifier \n",
    "# pass the base learners to the parameter, 'estimators'\n",
    "# pass the Naive Bayes model as the 'final_estimator'/ meta model\n",
    "stack_model = StackingClassifier(estimators = base_learners, final_estimator = xgb_model)\n",
    "\n",
    "# fit the model on train dataset\n",
    "stack_model.fit(X_train, y_train)"
   ]
  },
  {
   "cell_type": "code",
   "execution_count": 29,
   "metadata": {},
   "outputs": [
    {
     "data": {
      "image/png": "[encoded data removed]",
      "text/plain": [
       "<Figure size 1080x576 with 1 Axes>"
      ]
     },
     "metadata": {
      "needs_background": "light"
     },
     "output_type": "display_data"
    }
   ],
   "source": [
    "plot_roc(stack_model)"
   ]
  }
 ],
 "metadata": {
  "kernelspec": {
   "display_name": "Python 3",
   "language": "python",
   "name": "python3"
  },
  "language_info": {
   "codemirror_mode": {
    "name": "ipython",
    "version": 3
   },
   "file_extension": ".py",
   "mimetype": "text/x-python",
   "name": "python",
   "nbconvert_exporter": "python",
   "pygments_lexer": "ipython3",
   "version": "3.7.4"
  }
 },
 "nbformat": 4,
 "nbformat_minor": 2
}
